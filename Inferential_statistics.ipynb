{
  "nbformat": 4,
  "nbformat_minor": 0,
  "metadata": {
    "colab": {
      "provenance": []
    },
    "kernelspec": {
      "name": "python3",
      "display_name": "Python 3"
    },
    "language_info": {
      "name": "python"
    }
  },
  "cells": [
    {
      "cell_type": "markdown",
      "source": [
        "# Inferential Statistics\n",
        "Dataset: \"Titanic - Machine Learning from Disaster\""
      ],
      "metadata": {
        "id": "oI3mHSWKfsom"
      }
    },
    {
      "cell_type": "code",
      "source": [
        "# importing neccessary libraries\n",
        "import numpy as np\n",
        "import pandas as pd\n",
        "import matplotlib.pyplot as plt\n",
        "import seaborn as sns\n",
        "from scipy import stats"
      ],
      "metadata": {
        "id": "loK_WKtwgDdD"
      },
      "execution_count": 121,
      "outputs": []
    },
    {
      "cell_type": "code",
      "source": [
        "df = pd.read_csv(\"/content/train.csv\")\n",
        "df.head()"
      ],
      "metadata": {
        "colab": {
          "base_uri": "https://localhost:8080/",
          "height": 206
        },
        "id": "xjhwnV3xgQp0",
        "outputId": "a6cf7816-397a-4c63-ad25-cdac0e276725"
      },
      "execution_count": 122,
      "outputs": [
        {
          "output_type": "execute_result",
          "data": {
            "text/plain": [
              "   PassengerId  Survived  Pclass  \\\n",
              "0            1         0       3   \n",
              "1            2         1       1   \n",
              "2            3         1       3   \n",
              "3            4         1       1   \n",
              "4            5         0       3   \n",
              "\n",
              "                                                Name     Sex   Age  SibSp  \\\n",
              "0                            Braund, Mr. Owen Harris    male  22.0      1   \n",
              "1  Cumings, Mrs. John Bradley (Florence Briggs Th...  female  38.0      1   \n",
              "2                             Heikkinen, Miss. Laina  female  26.0      0   \n",
              "3       Futrelle, Mrs. Jacques Heath (Lily May Peel)  female  35.0      1   \n",
              "4                           Allen, Mr. William Henry    male  35.0      0   \n",
              "\n",
              "   Parch            Ticket     Fare Cabin Embarked  \n",
              "0      0         A/5 21171   7.2500   NaN        S  \n",
              "1      0          PC 17599  71.2833   C85        C  \n",
              "2      0  STON/O2. 3101282   7.9250   NaN        S  \n",
              "3      0            113803  53.1000  C123        S  \n",
              "4      0            373450   8.0500   NaN        S  "
            ],
            "text/html": [
              "\n",
              "  <div id=\"df-87a80bdc-4464-42ab-af15-371af2831f08\">\n",
              "    <div class=\"colab-df-container\">\n",
              "      <div>\n",
              "<style scoped>\n",
              "    .dataframe tbody tr th:only-of-type {\n",
              "        vertical-align: middle;\n",
              "    }\n",
              "\n",
              "    .dataframe tbody tr th {\n",
              "        vertical-align: top;\n",
              "    }\n",
              "\n",
              "    .dataframe thead th {\n",
              "        text-align: right;\n",
              "    }\n",
              "</style>\n",
              "<table border=\"1\" class=\"dataframe\">\n",
              "  <thead>\n",
              "    <tr style=\"text-align: right;\">\n",
              "      <th></th>\n",
              "      <th>PassengerId</th>\n",
              "      <th>Survived</th>\n",
              "      <th>Pclass</th>\n",
              "      <th>Name</th>\n",
              "      <th>Sex</th>\n",
              "      <th>Age</th>\n",
              "      <th>SibSp</th>\n",
              "      <th>Parch</th>\n",
              "      <th>Ticket</th>\n",
              "      <th>Fare</th>\n",
              "      <th>Cabin</th>\n",
              "      <th>Embarked</th>\n",
              "    </tr>\n",
              "  </thead>\n",
              "  <tbody>\n",
              "    <tr>\n",
              "      <th>0</th>\n",
              "      <td>1</td>\n",
              "      <td>0</td>\n",
              "      <td>3</td>\n",
              "      <td>Braund, Mr. Owen Harris</td>\n",
              "      <td>male</td>\n",
              "      <td>22.0</td>\n",
              "      <td>1</td>\n",
              "      <td>0</td>\n",
              "      <td>A/5 21171</td>\n",
              "      <td>7.2500</td>\n",
              "      <td>NaN</td>\n",
              "      <td>S</td>\n",
              "    </tr>\n",
              "    <tr>\n",
              "      <th>1</th>\n",
              "      <td>2</td>\n",
              "      <td>1</td>\n",
              "      <td>1</td>\n",
              "      <td>Cumings, Mrs. John Bradley (Florence Briggs Th...</td>\n",
              "      <td>female</td>\n",
              "      <td>38.0</td>\n",
              "      <td>1</td>\n",
              "      <td>0</td>\n",
              "      <td>PC 17599</td>\n",
              "      <td>71.2833</td>\n",
              "      <td>C85</td>\n",
              "      <td>C</td>\n",
              "    </tr>\n",
              "    <tr>\n",
              "      <th>2</th>\n",
              "      <td>3</td>\n",
              "      <td>1</td>\n",
              "      <td>3</td>\n",
              "      <td>Heikkinen, Miss. Laina</td>\n",
              "      <td>female</td>\n",
              "      <td>26.0</td>\n",
              "      <td>0</td>\n",
              "      <td>0</td>\n",
              "      <td>STON/O2. 3101282</td>\n",
              "      <td>7.9250</td>\n",
              "      <td>NaN</td>\n",
              "      <td>S</td>\n",
              "    </tr>\n",
              "    <tr>\n",
              "      <th>3</th>\n",
              "      <td>4</td>\n",
              "      <td>1</td>\n",
              "      <td>1</td>\n",
              "      <td>Futrelle, Mrs. Jacques Heath (Lily May Peel)</td>\n",
              "      <td>female</td>\n",
              "      <td>35.0</td>\n",
              "      <td>1</td>\n",
              "      <td>0</td>\n",
              "      <td>113803</td>\n",
              "      <td>53.1000</td>\n",
              "      <td>C123</td>\n",
              "      <td>S</td>\n",
              "    </tr>\n",
              "    <tr>\n",
              "      <th>4</th>\n",
              "      <td>5</td>\n",
              "      <td>0</td>\n",
              "      <td>3</td>\n",
              "      <td>Allen, Mr. William Henry</td>\n",
              "      <td>male</td>\n",
              "      <td>35.0</td>\n",
              "      <td>0</td>\n",
              "      <td>0</td>\n",
              "      <td>373450</td>\n",
              "      <td>8.0500</td>\n",
              "      <td>NaN</td>\n",
              "      <td>S</td>\n",
              "    </tr>\n",
              "  </tbody>\n",
              "</table>\n",
              "</div>\n",
              "      <button class=\"colab-df-convert\" onclick=\"convertToInteractive('df-87a80bdc-4464-42ab-af15-371af2831f08')\"\n",
              "              title=\"Convert this dataframe to an interactive table.\"\n",
              "              style=\"display:none;\">\n",
              "        \n",
              "  <svg xmlns=\"http://www.w3.org/2000/svg\" height=\"24px\"viewBox=\"0 0 24 24\"\n",
              "       width=\"24px\">\n",
              "    <path d=\"M0 0h24v24H0V0z\" fill=\"none\"/>\n",
              "    <path d=\"M18.56 5.44l.94 2.06.94-2.06 2.06-.94-2.06-.94-.94-2.06-.94 2.06-2.06.94zm-11 1L8.5 8.5l.94-2.06 2.06-.94-2.06-.94L8.5 2.5l-.94 2.06-2.06.94zm10 10l.94 2.06.94-2.06 2.06-.94-2.06-.94-.94-2.06-.94 2.06-2.06.94z\"/><path d=\"M17.41 7.96l-1.37-1.37c-.4-.4-.92-.59-1.43-.59-.52 0-1.04.2-1.43.59L10.3 9.45l-7.72 7.72c-.78.78-.78 2.05 0 2.83L4 21.41c.39.39.9.59 1.41.59.51 0 1.02-.2 1.41-.59l7.78-7.78 2.81-2.81c.8-.78.8-2.07 0-2.86zM5.41 20L4 18.59l7.72-7.72 1.47 1.35L5.41 20z\"/>\n",
              "  </svg>\n",
              "      </button>\n",
              "      \n",
              "  <style>\n",
              "    .colab-df-container {\n",
              "      display:flex;\n",
              "      flex-wrap:wrap;\n",
              "      gap: 12px;\n",
              "    }\n",
              "\n",
              "    .colab-df-convert {\n",
              "      background-color: #E8F0FE;\n",
              "      border: none;\n",
              "      border-radius: 50%;\n",
              "      cursor: pointer;\n",
              "      display: none;\n",
              "      fill: #1967D2;\n",
              "      height: 32px;\n",
              "      padding: 0 0 0 0;\n",
              "      width: 32px;\n",
              "    }\n",
              "\n",
              "    .colab-df-convert:hover {\n",
              "      background-color: #E2EBFA;\n",
              "      box-shadow: 0px 1px 2px rgba(60, 64, 67, 0.3), 0px 1px 3px 1px rgba(60, 64, 67, 0.15);\n",
              "      fill: #174EA6;\n",
              "    }\n",
              "\n",
              "    [theme=dark] .colab-df-convert {\n",
              "      background-color: #3B4455;\n",
              "      fill: #D2E3FC;\n",
              "    }\n",
              "\n",
              "    [theme=dark] .colab-df-convert:hover {\n",
              "      background-color: #434B5C;\n",
              "      box-shadow: 0px 1px 3px 1px rgba(0, 0, 0, 0.15);\n",
              "      filter: drop-shadow(0px 1px 2px rgba(0, 0, 0, 0.3));\n",
              "      fill: #FFFFFF;\n",
              "    }\n",
              "  </style>\n",
              "\n",
              "      <script>\n",
              "        const buttonEl =\n",
              "          document.querySelector('#df-87a80bdc-4464-42ab-af15-371af2831f08 button.colab-df-convert');\n",
              "        buttonEl.style.display =\n",
              "          google.colab.kernel.accessAllowed ? 'block' : 'none';\n",
              "\n",
              "        async function convertToInteractive(key) {\n",
              "          const element = document.querySelector('#df-87a80bdc-4464-42ab-af15-371af2831f08');\n",
              "          const dataTable =\n",
              "            await google.colab.kernel.invokeFunction('convertToInteractive',\n",
              "                                                     [key], {});\n",
              "          if (!dataTable) return;\n",
              "\n",
              "          const docLinkHtml = 'Like what you see? Visit the ' +\n",
              "            '<a target=\"_blank\" href=https://colab.research.google.com/notebooks/data_table.ipynb>data table notebook</a>'\n",
              "            + ' to learn more about interactive tables.';\n",
              "          element.innerHTML = '';\n",
              "          dataTable['output_type'] = 'display_data';\n",
              "          await google.colab.output.renderOutput(dataTable, element);\n",
              "          const docLink = document.createElement('div');\n",
              "          docLink.innerHTML = docLinkHtml;\n",
              "          element.appendChild(docLink);\n",
              "        }\n",
              "      </script>\n",
              "    </div>\n",
              "  </div>\n",
              "  "
            ]
          },
          "metadata": {},
          "execution_count": 122
        }
      ]
    },
    {
      "cell_type": "markdown",
      "source": [
        "## Exploratory Data Analysis"
      ],
      "metadata": {
        "id": "95AwZQR8YlvL"
      }
    },
    {
      "cell_type": "code",
      "source": [
        "#Number of rows and columns in the dataset\n",
        "num_rows, num_columns = df.shape\n",
        "print(\"Number of rows:\",num_rows)\n",
        "print(\"Number of columns:\",num_columns)"
      ],
      "metadata": {
        "colab": {
          "base_uri": "https://localhost:8080/"
        },
        "id": "jE5yoAUgY2hO",
        "outputId": "5e80d1f1-c5e5-47c5-f9b3-177a1616b9eb"
      },
      "execution_count": 123,
      "outputs": [
        {
          "output_type": "stream",
          "name": "stdout",
          "text": [
            "Number of rows: 891\n",
            "Number of columns: 12\n"
          ]
        }
      ]
    },
    {
      "cell_type": "code",
      "source": [
        "null_val = df.isnull().sum()\n",
        "print(\"Null values in each column\")\n",
        "print(null_val)"
      ],
      "metadata": {
        "colab": {
          "base_uri": "https://localhost:8080/"
        },
        "id": "4yV1WmY0ZbxZ",
        "outputId": "0030b205-456f-4291-ee35-e9a42a038734"
      },
      "execution_count": 124,
      "outputs": [
        {
          "output_type": "stream",
          "name": "stdout",
          "text": [
            "Null values in each column\n",
            "PassengerId      0\n",
            "Survived         0\n",
            "Pclass           0\n",
            "Name             0\n",
            "Sex              0\n",
            "Age            177\n",
            "SibSp            0\n",
            "Parch            0\n",
            "Ticket           0\n",
            "Fare             0\n",
            "Cabin          687\n",
            "Embarked         2\n",
            "dtype: int64\n"
          ]
        }
      ]
    },
    {
      "cell_type": "code",
      "source": [
        "# fill the null values\n",
        "from sklearn.impute import SimpleImputer\n",
        "\n",
        "# As age is a continuous variable, we will use average imputation\n",
        "age_imputer = SimpleImputer(strategy='mean')\n",
        "df['Age'] = age_imputer.fit_transform(df[['Age']])\n",
        "\n",
        "# As Embarked is a categorical variables, we will use mode imputation instead of mean imputation\n",
        "embark_imputer = SimpleImputer(strategy='most_frequent')\n",
        "df['Embarked'] = embark_imputer.fit_transform(df[['Embarked']])\n",
        "\n",
        "#Cabin has a lot of null values, so I'll just drop it\n",
        "df.drop('Cabin', axis=1, inplace=True)\n",
        "\n",
        "null_val = df.isnull().sum()\n",
        "print(\"Null values in each column\")\n",
        "print(null_val)"
      ],
      "metadata": {
        "colab": {
          "base_uri": "https://localhost:8080/"
        },
        "id": "eW9ZAk7zaLSw",
        "outputId": "dec44ca6-8737-4491-a6f6-a81c53a753b5"
      },
      "execution_count": 125,
      "outputs": [
        {
          "output_type": "stream",
          "name": "stdout",
          "text": [
            "Null values in each column\n",
            "PassengerId    0\n",
            "Survived       0\n",
            "Pclass         0\n",
            "Name           0\n",
            "Sex            0\n",
            "Age            0\n",
            "SibSp          0\n",
            "Parch          0\n",
            "Ticket         0\n",
            "Fare           0\n",
            "Embarked       0\n",
            "dtype: int64\n"
          ]
        }
      ]
    },
    {
      "cell_type": "code",
      "source": [
        "# drop unnecessary columns name and ticket\n",
        "df.drop('Name', axis=1, inplace=True)\n",
        "df.drop('Ticket', axis=1, inplace=True)"
      ],
      "metadata": {
        "id": "qNKtlWjIvvHK"
      },
      "execution_count": 126,
      "outputs": []
    },
    {
      "cell_type": "code",
      "source": [
        "# group the age column\n",
        "age_labels = ['0-9', '10-19', '20-29', '30-39', '40-49', '50-59', '60-69', '70-79']\n",
        "df['age_group'] = pd.cut(df.Age, range(0, 81, 10), right=False, labels=age_labels)"
      ],
      "metadata": {
        "id": "Gl68he4zfhdL"
      },
      "execution_count": 127,
      "outputs": []
    },
    {
      "cell_type": "code",
      "source": [
        "df.drop('Age',axis=1,inplace=True)"
      ],
      "metadata": {
        "id": "LWgi9Jou5irI"
      },
      "execution_count": 128,
      "outputs": []
    },
    {
      "cell_type": "markdown",
      "source": [
        "## Hypothesis Testing\n",
        "**Question 1: Does Age has a significant impact on the survival of the Passengers?**\n",
        "\n",
        "Ho = Age does not have a significant impact on the survival\n",
        "\n",
        "HA = Age has a significant impact on the survival"
      ],
      "metadata": {
        "id": "h116_D1Rf5mD"
      }
    },
    {
      "cell_type": "code",
      "source": [
        "# plotting the graph\n",
        "Age_data = df.groupby(['age_group']).size()\n",
        "Age_data.plot(kind=\"bar\")\n",
        "plt.xlabel(\"Age Group\")\n",
        "plt.ylabel('Count')\n",
        "plt.show()"
      ],
      "metadata": {
        "id": "eLovKvQfk3gD",
        "colab": {
          "base_uri": "https://localhost:8080/",
          "height": 476
        },
        "outputId": "a7af8a92-48b5-4a14-d28c-9004785f6382"
      },
      "execution_count": 129,
      "outputs": [
        {
          "output_type": "display_data",
          "data": {
            "text/plain": [
              "<Figure size 640x480 with 1 Axes>"
            ],
            "image/png": "[encoded data removed]"
          },
          "metadata": {}
        }
      ]
    },
    {
      "cell_type": "markdown",
      "source": [
        "From the above graph we can conclude that majority of passengers were aged between 20-29"
      ],
      "metadata": {
        "id": "Fi_acDjQice1"
      }
    },
    {
      "cell_type": "code",
      "source": [
        "print(df.groupby(['age_group']).Survived.mean())"
      ],
      "metadata": {
        "colab": {
          "base_uri": "https://localhost:8080/"
        },
        "id": "38pjZeaoibBp",
        "outputId": "ec090979-364b-4cc3-cbc6-14e92329dd7c"
      },
      "execution_count": 130,
      "outputs": [
        {
          "output_type": "stream",
          "name": "stdout",
          "text": [
            "age_group\n",
            "0-9      0.612903\n",
            "10-19    0.401961\n",
            "20-29    0.324937\n",
            "30-39    0.437126\n",
            "40-49    0.382022\n",
            "50-59    0.416667\n",
            "60-69    0.315789\n",
            "70-79    0.000000\n",
            "Name: Survived, dtype: float64\n"
          ]
        }
      ]
    },
    {
      "cell_type": "code",
      "source": [
        "contingency_table = pd.crosstab(df['age_group'],df['Survived'])\n",
        "\n",
        "# Step 4: Visualize the data\n",
        "contingency_table.plot(kind='bar', stacked=True)\n",
        "plt.xlabel('Age Group')\n",
        "plt.ylabel('Count')\n",
        "plt.title('Distribution of Survival by Age Group')\n",
        "plt.show()"
      ],
      "metadata": {
        "id": "juFUQW4AH-05",
        "colab": {
          "base_uri": "https://localhost:8080/",
          "height": 498
        },
        "outputId": "74d12954-2c62-4e9a-d225-38438a5e30fc"
      },
      "execution_count": 131,
      "outputs": [
        {
          "output_type": "display_data",
          "data": {
            "text/plain": [
              "<Figure size 640x480 with 1 Axes>"
            ],
            "image/png": "[encoded data removed]"
          },
          "metadata": {}
        }
      ]
    },
    {
      "cell_type": "markdown",
      "source": [
        "Terminologies\n",
        "\n",
        "Expected Frequency:  These values serve as a reference to compare with the observed frequencies in the contingency table, helping to assess the degree of association between the variables.\n",
        "\n",
        "chi2_statistics: This variable represents the computed chi-square test statistic. The chi-square test statistic measures the deviation between the observed frequencies and the expected frequencies in each cell of the contingency table. It provides an indication of the overall association or dependence between the variables.\n",
        "\n",
        "p_value: This variable represents the p-value associated with the chi-square test statistic. The p-value is the probability of obtaining results as extreme as the observed results, assuming that the null hypothesis (independence) is true. It indicates the strength of evidence against the null hypothesis and helps determine the statistical significance of the association.\n",
        "\n",
        "_: In the code snippet, two _ variables are used to discard the other returned values from the chi2_contingency() function that are not needed for further analysis.\n",
        "\n",
        "A larger chi-square value and a smaller p-value indicate a stronger association, suggesting that the variables are not independent."
      ],
      "metadata": {
        "id": "-Yu5AhQ1nFrC"
      }
    },
    {
      "cell_type": "code",
      "source": [
        "from scipy.stats import chi2_contingency\n",
        "\n",
        "# Step 5: Calculate the expected frequencies\n",
        "expected_freq = chi2_contingency(contingency_table)[3]\n",
        "\n",
        "# Step 6: Compute the chi-square test statistic\n",
        "chi2_statistics, p_value, _, _ = chi2_contingency(contingency_table)\n",
        "\n",
        "# Step 7: Determine the p-value\n",
        "significance_level = 0.05\n",
        "\n",
        "# Step 8: Interpret the results\n",
        "print(\"Chi statistics:\",chi2_statistics)\n",
        "print(\"p_value =\",p_value)\n",
        "if p_value < significance_level:\n",
        "    print(\"There is evidence of an association between age and survival.\")\n",
        "else:\n",
        "    print(\"There is no significant evidence of an association between age and survival.\")"
      ],
      "metadata": {
        "id": "41xng5bZdcqY",
        "colab": {
          "base_uri": "https://localhost:8080/"
        },
        "outputId": "95b7fc16-43ad-477e-ed5e-fffa379897fa"
      },
      "execution_count": 132,
      "outputs": [
        {
          "output_type": "stream",
          "name": "stdout",
          "text": [
            "Chi statistics: 26.071175838057542\n",
            "p_value = 0.0004891297857944056\n",
            "There is evidence of an association between age and survival.\n"
          ]
        }
      ]
    },
    {
      "cell_type": "code",
      "source": [
        "# Step 9: Create and analyze the contingency table\n",
        "expected_freq_reshaped = expected_freq.reshape(contingency_table.shape)\n",
        "contingency_table_with_stats = pd.DataFrame({\n",
        "    'Survived: 0': contingency_table[0],\n",
        "    'Survived: 1': contingency_table[1],\n",
        "    'Expected: 0': expected_freq_reshaped[:, 0],\n",
        "    'Expected: 1': expected_freq_reshaped[:, 1]\n",
        "})\n",
        "\n",
        "print(contingency_table_with_stats)"
      ],
      "metadata": {
        "colab": {
          "base_uri": "https://localhost:8080/"
        },
        "id": "wMAL0b6wkYCJ",
        "outputId": "44e91461-01e4-4428-fdbb-a45f42bcbf5d"
      },
      "execution_count": 133,
      "outputs": [
        {
          "output_type": "stream",
          "name": "stdout",
          "text": [
            "           Survived: 0  Survived: 1  Expected: 0  Expected: 1\n",
            "age_group                                                    \n",
            "0-9                 24           38    38.244944    23.755056\n",
            "10-19               61           41    62.919101    39.080899\n",
            "20-29              268          129   244.891011   152.108989\n",
            "30-39               94           73   103.014607    63.985393\n",
            "40-49               55           34    54.900000    34.100000\n",
            "50-59               28           20    29.608989    18.391011\n",
            "60-69               13            6    11.720225     7.279775\n",
            "70-79                6            0     3.701124     2.298876\n"
          ]
        }
      ]
    },
    {
      "cell_type": "markdown",
      "source": [
        "###Conclusion\n",
        "The p-value and the contingency table analysis provide a strong evidence to suggest the association between age and Survival"
      ],
      "metadata": {
        "id": "VgeOxbeyptHC"
      }
    },
    {
      "cell_type": "markdown",
      "source": [
        "**Question 2: Does Passenger Class has an impact on the survival of the Passengers?**\n",
        "\n",
        "Ho = Passenger Class does not have an impact on the survival\n",
        "\n",
        "HA = Passenger Class has a impact on the survival"
      ],
      "metadata": {
        "id": "DrT8eX9Nb17R"
      }
    },
    {
      "cell_type": "code",
      "source": [
        "class_count = df['Pclass'].value_counts()\n",
        "print(\"The count pf Passenger in each class\")\n",
        "print(class_count)"
      ],
      "metadata": {
        "id": "jyCRURc7qHBT",
        "colab": {
          "base_uri": "https://localhost:8080/"
        },
        "outputId": "a51056fd-6182-4b95-e991-ee2494f865c8"
      },
      "execution_count": 134,
      "outputs": [
        {
          "output_type": "stream",
          "name": "stdout",
          "text": [
            "The count pf Passenger in each class\n",
            "3    491\n",
            "1    216\n",
            "2    184\n",
            "Name: Pclass, dtype: int64\n"
          ]
        }
      ]
    },
    {
      "cell_type": "code",
      "source": [
        "class_survivors = df[df['Survived']==1].groupby('Pclass')['Survived'].value_counts()\n",
        "print(\"Count of Survivors from each class\")\n",
        "print(class_survivors)"
      ],
      "metadata": {
        "colab": {
          "base_uri": "https://localhost:8080/"
        },
        "id": "gx84Dxi4dAN9",
        "outputId": "24066d27-7fac-4ef3-ece9-c17600adce4b"
      },
      "execution_count": 135,
      "outputs": [
        {
          "output_type": "stream",
          "name": "stdout",
          "text": [
            "Count of Survivors from each class\n",
            "Pclass  Survived\n",
            "1       1           136\n",
            "2       1            87\n",
            "3       1           119\n",
            "Name: Survived, dtype: int64\n"
          ]
        }
      ]
    },
    {
      "cell_type": "code",
      "source": [
        "#create the contingency_table\n",
        "contingency_table = pd.crosstab(df['Pclass'],df['Survived'])\n",
        "\n",
        "#Data Visualization\n",
        "contingency_table.plot(kind=\"bar\",stacked=True)\n",
        "plt.xlabel(\"Passenger class\")\n",
        "plt.ylabel(\"Count\")\n",
        "plt.title(\"Distribution of Survival by Passenger class\")\n",
        "plt.show()"
      ],
      "metadata": {
        "colab": {
          "base_uri": "https://localhost:8080/",
          "height": 467
        },
        "id": "do9ZOzstd6U7",
        "outputId": "59a90edb-5ca8-4d39-a563-6e9756a0e636"
      },
      "execution_count": 136,
      "outputs": [
        {
          "output_type": "display_data",
          "data": {
            "text/plain": [
              "<Figure size 640x480 with 1 Axes>"
            ],
            "image/png": "[encoded data removed]"
          },
          "metadata": {}
        }
      ]
    },
    {
      "cell_type": "markdown",
      "source": [
        "It is clear from the above analysis that although the number of passengers from the 1st class is higher, their survival rate is the lowest. Additionally, most of the passengers who survived were from the 1st class.\n",
        "\n",
        "Time to test this theory using hypothesis testing"
      ],
      "metadata": {
        "id": "2YQQBhdul26H"
      }
    },
    {
      "cell_type": "code",
      "source": [
        "# Calculate survival rates by passenger class\n",
        "survival_rates_class = df.groupby('Pclass')['Survived'].mean()\n",
        "\n",
        "from scipy.stats import f_oneway\n",
        "\n",
        "# Perform one-way ANOVA test\n",
        "result_class = f_oneway(df[df['Pclass'] == 1]['Survived'],\n",
        "                        df[df['Pclass'] == 2]['Survived'],\n",
        "                        df[df['Pclass'] == 3]['Survived'])\n",
        "p_value_class = result_class.pvalue\n",
        "print(p_value_class)"
      ],
      "metadata": {
        "colab": {
          "base_uri": "https://localhost:8080/"
        },
        "id": "XKQaM08rAUy_",
        "outputId": "c37d0311-9e9f-4ec9-9605-a2ec2100bc33"
      },
      "execution_count": 137,
      "outputs": [
        {
          "output_type": "stream",
          "name": "stdout",
          "text": [
            "2.1832474151179777e-24\n"
          ]
        }
      ]
    },
    {
      "cell_type": "code",
      "source": [
        "if p_value_class < 0.05:\n",
        "    print(\"There is a significant difference in survival rates among passenger classes.\")\n",
        "else:\n",
        "    print(\"There is no significant difference in survival rates among passenger classes.\")"
      ],
      "metadata": {
        "colab": {
          "base_uri": "https://localhost:8080/"
        },
        "id": "Fesv1AeYAkVm",
        "outputId": "7ca850e7-a074-486f-a02c-873bb6df9e09"
      },
      "execution_count": 138,
      "outputs": [
        {
          "output_type": "stream",
          "name": "stdout",
          "text": [
            "There is a significant difference in survival rates among passenger classes.\n"
          ]
        }
      ]
    },
    {
      "cell_type": "markdown",
      "source": [
        "## Confidence Interval\n",
        "What is the estimated range of survival rates for different passenger classes with a certain level of confidence?"
      ],
      "metadata": {
        "id": "pLvN-pDfk7Fu"
      }
    },
    {
      "cell_type": "code",
      "source": [
        "#Step 1: group the passenger class based on their survival status\n",
        "class_group = df.groupby('Pclass')['Survived']"
      ],
      "metadata": {
        "id": "8zMvC-fesxv2"
      },
      "execution_count": 139,
      "outputs": []
    },
    {
      "cell_type": "code",
      "source": [
        "#Step 2: calculate mean and standard deviation\n",
        "class_mean = class_group.mean()\n",
        "class_std = class_group.std(ddof=1)\n",
        "print(\"Class mean: \")\n",
        "print(class_mean,\"\\n\")\n",
        "print(\"Class Standard Deviation: \")\n",
        "print(class_std)"
      ],
      "metadata": {
        "colab": {
          "base_uri": "https://localhost:8080/"
        },
        "id": "m0wASrau-DoM",
        "outputId": "d36b7f0c-8fea-4d0f-f11e-59e4fc3a0245"
      },
      "execution_count": 140,
      "outputs": [
        {
          "output_type": "stream",
          "name": "stdout",
          "text": [
            "Class mean: \n",
            "Pclass\n",
            "1    0.629630\n",
            "2    0.472826\n",
            "3    0.242363\n",
            "Name: Survived, dtype: float64 \n",
            "\n",
            "Class Standard Deviation: \n",
            "Pclass\n",
            "1    0.484026\n",
            "2    0.500623\n",
            "3    0.428949\n",
            "Name: Survived, dtype: float64\n"
          ]
        }
      ]
    },
    {
      "cell_type": "code",
      "source": [
        "#Step 3: Count the number of observations in each class\n",
        "class_count = class_group.count()\n",
        "print(\"Total number of Observations in each group:\")\n",
        "print(class_count)"
      ],
      "metadata": {
        "colab": {
          "base_uri": "https://localhost:8080/"
        },
        "id": "v9UBWY1tC9_2",
        "outputId": "a7872de3-a1e4-4b36-e055-6341f7430683"
      },
      "execution_count": 141,
      "outputs": [
        {
          "output_type": "stream",
          "name": "stdout",
          "text": [
            "Total number of Observations in each group:\n",
            "Pclass\n",
            "1    216\n",
            "2    184\n",
            "3    491\n",
            "Name: Survived, dtype: int64\n"
          ]
        }
      ]
    },
    {
      "cell_type": "code",
      "source": [
        "#Step 4: Set the desired confidence level\n",
        "confidence_level = 0.95"
      ],
      "metadata": {
        "id": "hslqOTeKD8P4"
      },
      "execution_count": 142,
      "outputs": []
    },
    {
      "cell_type": "code",
      "source": [
        "from scipy.stats import t\n",
        "\n",
        "#Step 5: calculate critical value using degree of freedom and confidence level\n",
        "degree_of_freedom = class_count-1\n",
        "critical_value = t.ppf(confidence_level, degree_of_freedom)\n",
        "print(\"Degree of Freedom:\",degree_of_freedom,\"\\n\")\n",
        "print(\"Critical Value:\",critical_value)\n"
      ],
      "metadata": {
        "id": "oRIdf8R6EZDu",
        "colab": {
          "base_uri": "https://localhost:8080/"
        },
        "outputId": "8690580b-91f7-4270-d279-22da526bcecb"
      },
      "execution_count": 143,
      "outputs": [
        {
          "output_type": "stream",
          "name": "stdout",
          "text": [
            "Degree of Freedom: Pclass\n",
            "1    215\n",
            "2    183\n",
            "3    490\n",
            "Name: Survived, dtype: int64 \n",
            "\n",
            "Critical Value: [1.65197175 1.6532228  1.64796928]\n"
          ]
        }
      ]
    },
    {
      "cell_type": "markdown",
      "source": [
        "While not subtracting 1 may not drastically alter the results, it is important to follow the standard conventions and best practices in statistical analysis. Subtracting 1 ensures consistency and aligns with the principles of hypothesis testing and confidence interval estimation."
      ],
      "metadata": {
        "id": "rxHfdBso9BtC"
      }
    },
    {
      "cell_type": "code",
      "source": [
        "#Step 6: calculate the margin of error\n",
        "margin_of_error = critical_value * (class_std/(np.sqrt(class_count)))\n",
        "print(\"Margin of error:\")\n",
        "print(margin_of_error)"
      ],
      "metadata": {
        "id": "zZSHKWiA9FKO",
        "colab": {
          "base_uri": "https://localhost:8080/"
        },
        "outputId": "e8271471-db96-4ec0-915e-fcba72a7cf58"
      },
      "execution_count": 144,
      "outputs": [
        {
          "output_type": "stream",
          "name": "stdout",
          "text": [
            "Margin of error:\n",
            "Pclass\n",
            "1    0.054406\n",
            "2    0.061015\n",
            "3    0.031902\n",
            "Name: Survived, dtype: float64\n"
          ]
        }
      ]
    },
    {
      "cell_type": "code",
      "source": [
        "#Step 7: calculate the lower bound and the upper bound\n",
        "lower_bound = class_mean - margin_of_error\n",
        "upper_bound = class_mean + margin_of_error"
      ],
      "metadata": {
        "id": "cwseMRz1KDBA"
      },
      "execution_count": 145,
      "outputs": []
    },
    {
      "cell_type": "code",
      "source": [
        "#Create a dataframe to store the confidence interval\n",
        "confidence_interval = pd.DataFrame({'Lowerbound': lower_bound,\"Upperbound\": upper_bound})"
      ],
      "metadata": {
        "id": "3qf6HUTUKjPM"
      },
      "execution_count": 146,
      "outputs": []
    },
    {
      "cell_type": "code",
      "source": [
        "#Step 8: Display confidence interval\n",
        "print(confidence_interval)"
      ],
      "metadata": {
        "colab": {
          "base_uri": "https://localhost:8080/"
        },
        "id": "yl45t9gQLOhR",
        "outputId": "4c3cbe3d-16f5-47a5-e5d4-16efece49291"
      },
      "execution_count": 147,
      "outputs": [
        {
          "output_type": "stream",
          "name": "stdout",
          "text": [
            "        Lowerbound  Upperbound\n",
            "Pclass                        \n",
            "1         0.575224    0.684035\n",
            "2         0.411812    0.533841\n",
            "3         0.210461    0.274264\n"
          ]
        }
      ]
    },
    {
      "cell_type": "markdown",
      "source": [
        "### Conclusion\n",
        "Above are the estimated range of survival rate for different passenger class with 95% of confidence level"
      ],
      "metadata": {
        "id": "5q-EuZ6zMH7i"
      }
    },
    {
      "cell_type": "markdown",
      "source": [
        "##Regression Analysis"
      ],
      "metadata": {
        "id": "3xxw9kxq3jpi"
      }
    },
    {
      "cell_type": "code",
      "source": [
        "# I will create dummy variables to convert all the categorical variables into numerical format\n",
        "Sex = pd.get_dummies(df['Sex'], drop_first=True)"
      ],
      "metadata": {
        "id": "AR2j8NQfLVdH"
      },
      "execution_count": 148,
      "outputs": []
    },
    {
      "cell_type": "code",
      "source": [
        "Pclass = pd.get_dummies(df['Pclass'], drop_first=True)"
      ],
      "metadata": {
        "id": "aVhzgbpE4gzW"
      },
      "execution_count": 149,
      "outputs": []
    },
    {
      "cell_type": "code",
      "source": [
        "Embarked = pd.get_dummies(df['Embarked'], drop_first=True)"
      ],
      "metadata": {
        "id": "THNmheKP4txY"
      },
      "execution_count": 150,
      "outputs": []
    },
    {
      "cell_type": "code",
      "source": [
        "age = pd.get_dummies(df['age_group'], drop_first=True)"
      ],
      "metadata": {
        "id": "bHl_jMOe5INK"
      },
      "execution_count": 151,
      "outputs": []
    },
    {
      "cell_type": "code",
      "source": [
        "df = pd.concat([df,Pclass,Embarked,age,Sex],axis=1)"
      ],
      "metadata": {
        "id": "m9sEwl4v5u9u"
      },
      "execution_count": 152,
      "outputs": []
    },
    {
      "cell_type": "code",
      "source": [
        "df.head()"
      ],
      "metadata": {
        "colab": {
          "base_uri": "https://localhost:8080/",
          "height": 236
        },
        "id": "1WuMUeNu6bjJ",
        "outputId": "8f61c4a7-da30-4daf-8288-3f960dd2640a"
      },
      "execution_count": 118,
      "outputs": [
        {
          "output_type": "execute_result",
          "data": {
            "text/plain": [
              "   PassengerId  Survived  Pclass     Sex  SibSp  Parch     Fare Embarked  \\\n",
              "0            1         0       3    male      1      0   7.2500        S   \n",
              "1            2         1       1  female      1      0  71.2833        C   \n",
              "2            3         1       3  female      0      0   7.9250        S   \n",
              "3            4         1       1  female      1      0  53.1000        S   \n",
              "4            5         0       3    male      0      0   8.0500        S   \n",
              "\n",
              "  age_group  2  ...  Q  S  10-19  20-29  30-39  40-49  50-59  60-69  70-79  \\\n",
              "0     20-29  0  ...  0  1      0      1      0      0      0      0      0   \n",
              "1     30-39  0  ...  0  0      0      0      1      0      0      0      0   \n",
              "2     20-29  0  ...  0  1      0      1      0      0      0      0      0   \n",
              "3     30-39  0  ...  0  1      0      0      1      0      0      0      0   \n",
              "4     30-39  0  ...  0  1      0      0      1      0      0      0      0   \n",
              "\n",
              "   male  \n",
              "0     1  \n",
              "1     0  \n",
              "2     0  \n",
              "3     0  \n",
              "4     1  \n",
              "\n",
              "[5 rows x 21 columns]"
            ],
            "text/html": [
              "\n",
              "  <div id=\"df-ae6b71b2-5e49-45db-a9ec-617b96693d1b\">\n",
              "    <div class=\"colab-df-container\">\n",
              "      <div>\n",
              "<style scoped>\n",
              "    .dataframe tbody tr th:only-of-type {\n",
              "        vertical-align: middle;\n",
              "    }\n",
              "\n",
              "    .dataframe tbody tr th {\n",
              "        vertical-align: top;\n",
              "    }\n",
              "\n",
              "    .dataframe thead th {\n",
              "        text-align: right;\n",
              "    }\n",
              "</style>\n",
              "<table border=\"1\" class=\"dataframe\">\n",
              "  <thead>\n",
              "    <tr style=\"text-align: right;\">\n",
              "      <th></th>\n",
              "      <th>PassengerId</th>\n",
              "      <th>Survived</th>\n",
              "      <th>Pclass</th>\n",
              "      <th>Sex</th>\n",
              "      <th>SibSp</th>\n",
              "      <th>Parch</th>\n",
              "      <th>Fare</th>\n",
              "      <th>Embarked</th>\n",
              "      <th>age_group</th>\n",
              "      <th>2</th>\n",
              "      <th>...</th>\n",
              "      <th>Q</th>\n",
              "      <th>S</th>\n",
              "      <th>10-19</th>\n",
              "      <th>20-29</th>\n",
              "      <th>30-39</th>\n",
              "      <th>40-49</th>\n",
              "      <th>50-59</th>\n",
              "      <th>60-69</th>\n",
              "      <th>70-79</th>\n",
              "      <th>male</th>\n",
              "    </tr>\n",
              "  </thead>\n",
              "  <tbody>\n",
              "    <tr>\n",
              "      <th>0</th>\n",
              "      <td>1</td>\n",
              "      <td>0</td>\n",
              "      <td>3</td>\n",
              "      <td>male</td>\n",
              "      <td>1</td>\n",
              "      <td>0</td>\n",
              "      <td>7.2500</td>\n",
              "      <td>S</td>\n",
              "      <td>20-29</td>\n",
              "      <td>0</td>\n",
              "      <td>...</td>\n",
              "      <td>0</td>\n",
              "      <td>1</td>\n",
              "      <td>0</td>\n",
              "      <td>1</td>\n",
              "      <td>0</td>\n",
              "      <td>0</td>\n",
              "      <td>0</td>\n",
              "      <td>0</td>\n",
              "      <td>0</td>\n",
              "      <td>1</td>\n",
              "    </tr>\n",
              "    <tr>\n",
              "      <th>1</th>\n",
              "      <td>2</td>\n",
              "      <td>1</td>\n",
              "      <td>1</td>\n",
              "      <td>female</td>\n",
              "      <td>1</td>\n",
              "      <td>0</td>\n",
              "      <td>71.2833</td>\n",
              "      <td>C</td>\n",
              "      <td>30-39</td>\n",
              "      <td>0</td>\n",
              "      <td>...</td>\n",
              "      <td>0</td>\n",
              "      <td>0</td>\n",
              "      <td>0</td>\n",
              "      <td>0</td>\n",
              "      <td>1</td>\n",
              "      <td>0</td>\n",
              "      <td>0</td>\n",
              "      <td>0</td>\n",
              "      <td>0</td>\n",
              "      <td>0</td>\n",
              "    </tr>\n",
              "    <tr>\n",
              "      <th>2</th>\n",
              "      <td>3</td>\n",
              "      <td>1</td>\n",
              "      <td>3</td>\n",
              "      <td>female</td>\n",
              "      <td>0</td>\n",
              "      <td>0</td>\n",
              "      <td>7.9250</td>\n",
              "      <td>S</td>\n",
              "      <td>20-29</td>\n",
              "      <td>0</td>\n",
              "      <td>...</td>\n",
              "      <td>0</td>\n",
              "      <td>1</td>\n",
              "      <td>0</td>\n",
              "      <td>1</td>\n",
              "      <td>0</td>\n",
              "      <td>0</td>\n",
              "      <td>0</td>\n",
              "      <td>0</td>\n",
              "      <td>0</td>\n",
              "      <td>0</td>\n",
              "    </tr>\n",
              "    <tr>\n",
              "      <th>3</th>\n",
              "      <td>4</td>\n",
              "      <td>1</td>\n",
              "      <td>1</td>\n",
              "      <td>female</td>\n",
              "      <td>1</td>\n",
              "      <td>0</td>\n",
              "      <td>53.1000</td>\n",
              "      <td>S</td>\n",
              "      <td>30-39</td>\n",
              "      <td>0</td>\n",
              "      <td>...</td>\n",
              "      <td>0</td>\n",
              "      <td>1</td>\n",
              "      <td>0</td>\n",
              "      <td>0</td>\n",
              "      <td>1</td>\n",
              "      <td>0</td>\n",
              "      <td>0</td>\n",
              "      <td>0</td>\n",
              "      <td>0</td>\n",
              "      <td>0</td>\n",
              "    </tr>\n",
              "    <tr>\n",
              "      <th>4</th>\n",
              "      <td>5</td>\n",
              "      <td>0</td>\n",
              "      <td>3</td>\n",
              "      <td>male</td>\n",
              "      <td>0</td>\n",
              "      <td>0</td>\n",
              "      <td>8.0500</td>\n",
              "      <td>S</td>\n",
              "      <td>30-39</td>\n",
              "      <td>0</td>\n",
              "      <td>...</td>\n",
              "      <td>0</td>\n",
              "      <td>1</td>\n",
              "      <td>0</td>\n",
              "      <td>0</td>\n",
              "      <td>1</td>\n",
              "      <td>0</td>\n",
              "      <td>0</td>\n",
              "      <td>0</td>\n",
              "      <td>0</td>\n",
              "      <td>1</td>\n",
              "    </tr>\n",
              "  </tbody>\n",
              "</table>\n",
              "<p>5 rows × 21 columns</p>\n",
              "</div>\n",
              "      <button class=\"colab-df-convert\" onclick=\"convertToInteractive('df-ae6b71b2-5e49-45db-a9ec-617b96693d1b')\"\n",
              "              title=\"Convert this dataframe to an interactive table.\"\n",
              "              style=\"display:none;\">\n",
              "        \n",
              "  <svg xmlns=\"http://www.w3.org/2000/svg\" height=\"24px\"viewBox=\"0 0 24 24\"\n",
              "       width=\"24px\">\n",
              "    <path d=\"M0 0h24v24H0V0z\" fill=\"none\"/>\n",
              "    <path d=\"M18.56 5.44l.94 2.06.94-2.06 2.06-.94-2.06-.94-.94-2.06-.94 2.06-2.06.94zm-11 1L8.5 8.5l.94-2.06 2.06-.94-2.06-.94L8.5 2.5l-.94 2.06-2.06.94zm10 10l.94 2.06.94-2.06 2.06-.94-2.06-.94-.94-2.06-.94 2.06-2.06.94z\"/><path d=\"M17.41 7.96l-1.37-1.37c-.4-.4-.92-.59-1.43-.59-.52 0-1.04.2-1.43.59L10.3 9.45l-7.72 7.72c-.78.78-.78 2.05 0 2.83L4 21.41c.39.39.9.59 1.41.59.51 0 1.02-.2 1.41-.59l7.78-7.78 2.81-2.81c.8-.78.8-2.07 0-2.86zM5.41 20L4 18.59l7.72-7.72 1.47 1.35L5.41 20z\"/>\n",
              "  </svg>\n",
              "      </button>\n",
              "      \n",
              "  <style>\n",
              "    .colab-df-container {\n",
              "      display:flex;\n",
              "      flex-wrap:wrap;\n",
              "      gap: 12px;\n",
              "    }\n",
              "\n",
              "    .colab-df-convert {\n",
              "      background-color: #E8F0FE;\n",
              "      border: none;\n",
              "      border-radius: 50%;\n",
              "      cursor: pointer;\n",
              "      display: none;\n",
              "      fill: #1967D2;\n",
              "      height: 32px;\n",
              "      padding: 0 0 0 0;\n",
              "      width: 32px;\n",
              "    }\n",
              "\n",
              "    .colab-df-convert:hover {\n",
              "      background-color: #E2EBFA;\n",
              "      box-shadow: 0px 1px 2px rgba(60, 64, 67, 0.3), 0px 1px 3px 1px rgba(60, 64, 67, 0.15);\n",
              "      fill: #174EA6;\n",
              "    }\n",
              "\n",
              "    [theme=dark] .colab-df-convert {\n",
              "      background-color: #3B4455;\n",
              "      fill: #D2E3FC;\n",
              "    }\n",
              "\n",
              "    [theme=dark] .colab-df-convert:hover {\n",
              "      background-color: #434B5C;\n",
              "      box-shadow: 0px 1px 3px 1px rgba(0, 0, 0, 0.15);\n",
              "      filter: drop-shadow(0px 1px 2px rgba(0, 0, 0, 0.3));\n",
              "      fill: #FFFFFF;\n",
              "    }\n",
              "  </style>\n",
              "\n",
              "      <script>\n",
              "        const buttonEl =\n",
              "          document.querySelector('#df-ae6b71b2-5e49-45db-a9ec-617b96693d1b button.colab-df-convert');\n",
              "        buttonEl.style.display =\n",
              "          google.colab.kernel.accessAllowed ? 'block' : 'none';\n",
              "\n",
              "        async function convertToInteractive(key) {\n",
              "          const element = document.querySelector('#df-ae6b71b2-5e49-45db-a9ec-617b96693d1b');\n",
              "          const dataTable =\n",
              "            await google.colab.kernel.invokeFunction('convertToInteractive',\n",
              "                                                     [key], {});\n",
              "          if (!dataTable) return;\n",
              "\n",
              "          const docLinkHtml = 'Like what you see? Visit the ' +\n",
              "            '<a target=\"_blank\" href=https://colab.research.google.com/notebooks/data_table.ipynb>data table notebook</a>'\n",
              "            + ' to learn more about interactive tables.';\n",
              "          element.innerHTML = '';\n",
              "          dataTable['output_type'] = 'display_data';\n",
              "          await google.colab.output.renderOutput(dataTable, element);\n",
              "          const docLink = document.createElement('div');\n",
              "          docLink.innerHTML = docLinkHtml;\n",
              "          element.appendChild(docLink);\n",
              "        }\n",
              "      </script>\n",
              "    </div>\n",
              "  </div>\n",
              "  "
            ]
          },
          "metadata": {},
          "execution_count": 118
        }
      ]
    },
    {
      "cell_type": "code",
      "source": [
        "#drop extra columns\n",
        "df.drop(['Pclass','Sex','Embarked','age_group','PassengerId'],axis=1,inplace=True)"
      ],
      "metadata": {
        "id": "GFqPz7AY6nBJ"
      },
      "execution_count": 153,
      "outputs": []
    },
    {
      "cell_type": "code",
      "source": [
        "df.head()"
      ],
      "metadata": {
        "colab": {
          "base_uri": "https://localhost:8080/",
          "height": 206
        },
        "id": "xaW3qEl_PrhZ",
        "outputId": "7159caeb-00cd-4dfb-831a-e2312aafb97d"
      },
      "execution_count": 154,
      "outputs": [
        {
          "output_type": "execute_result",
          "data": {
            "text/plain": [
              "   Survived  SibSp  Parch     Fare  2  3  Q  S  10-19  20-29  30-39  40-49  \\\n",
              "0         0      1      0   7.2500  0  1  0  1      0      1      0      0   \n",
              "1         1      1      0  71.2833  0  0  0  0      0      0      1      0   \n",
              "2         1      0      0   7.9250  0  1  0  1      0      1      0      0   \n",
              "3         1      1      0  53.1000  0  0  0  1      0      0      1      0   \n",
              "4         0      0      0   8.0500  0  1  0  1      0      0      1      0   \n",
              "\n",
              "   50-59  60-69  70-79  male  \n",
              "0      0      0      0     1  \n",
              "1      0      0      0     0  \n",
              "2      0      0      0     0  \n",
              "3      0      0      0     0  \n",
              "4      0      0      0     1  "
            ],
            "text/html": [
              "\n",
              "  <div id=\"df-9ba68673-90e9-46c6-8b56-f0b056945cf2\">\n",
              "    <div class=\"colab-df-container\">\n",
              "      <div>\n",
              "<style scoped>\n",
              "    .dataframe tbody tr th:only-of-type {\n",
              "        vertical-align: middle;\n",
              "    }\n",
              "\n",
              "    .dataframe tbody tr th {\n",
              "        vertical-align: top;\n",
              "    }\n",
              "\n",
              "    .dataframe thead th {\n",
              "        text-align: right;\n",
              "    }\n",
              "</style>\n",
              "<table border=\"1\" class=\"dataframe\">\n",
              "  <thead>\n",
              "    <tr style=\"text-align: right;\">\n",
              "      <th></th>\n",
              "      <th>Survived</th>\n",
              "      <th>SibSp</th>\n",
              "      <th>Parch</th>\n",
              "      <th>Fare</th>\n",
              "      <th>2</th>\n",
              "      <th>3</th>\n",
              "      <th>Q</th>\n",
              "      <th>S</th>\n",
              "      <th>10-19</th>\n",
              "      <th>20-29</th>\n",
              "      <th>30-39</th>\n",
              "      <th>40-49</th>\n",
              "      <th>50-59</th>\n",
              "      <th>60-69</th>\n",
              "      <th>70-79</th>\n",
              "      <th>male</th>\n",
              "    </tr>\n",
              "  </thead>\n",
              "  <tbody>\n",
              "    <tr>\n",
              "      <th>0</th>\n",
              "      <td>0</td>\n",
              "      <td>1</td>\n",
              "      <td>0</td>\n",
              "      <td>7.2500</td>\n",
              "      <td>0</td>\n",
              "      <td>1</td>\n",
              "      <td>0</td>\n",
              "      <td>1</td>\n",
              "      <td>0</td>\n",
              "      <td>1</td>\n",
              "      <td>0</td>\n",
              "      <td>0</td>\n",
              "      <td>0</td>\n",
              "      <td>0</td>\n",
              "      <td>0</td>\n",
              "      <td>1</td>\n",
              "    </tr>\n",
              "    <tr>\n",
              "      <th>1</th>\n",
              "      <td>1</td>\n",
              "      <td>1</td>\n",
              "      <td>0</td>\n",
              "      <td>71.2833</td>\n",
              "      <td>0</td>\n",
              "      <td>0</td>\n",
              "      <td>0</td>\n",
              "      <td>0</td>\n",
              "      <td>0</td>\n",
              "      <td>0</td>\n",
              "      <td>1</td>\n",
              "      <td>0</td>\n",
              "      <td>0</td>\n",
              "      <td>0</td>\n",
              "      <td>0</td>\n",
              "      <td>0</td>\n",
              "    </tr>\n",
              "    <tr>\n",
              "      <th>2</th>\n",
              "      <td>1</td>\n",
              "      <td>0</td>\n",
              "      <td>0</td>\n",
              "      <td>7.9250</td>\n",
              "      <td>0</td>\n",
              "      <td>1</td>\n",
              "      <td>0</td>\n",
              "      <td>1</td>\n",
              "      <td>0</td>\n",
              "      <td>1</td>\n",
              "      <td>0</td>\n",
              "      <td>0</td>\n",
              "      <td>0</td>\n",
              "      <td>0</td>\n",
              "      <td>0</td>\n",
              "      <td>0</td>\n",
              "    </tr>\n",
              "    <tr>\n",
              "      <th>3</th>\n",
              "      <td>1</td>\n",
              "      <td>1</td>\n",
              "      <td>0</td>\n",
              "      <td>53.1000</td>\n",
              "      <td>0</td>\n",
              "      <td>0</td>\n",
              "      <td>0</td>\n",
              "      <td>1</td>\n",
              "      <td>0</td>\n",
              "      <td>0</td>\n",
              "      <td>1</td>\n",
              "      <td>0</td>\n",
              "      <td>0</td>\n",
              "      <td>0</td>\n",
              "      <td>0</td>\n",
              "      <td>0</td>\n",
              "    </tr>\n",
              "    <tr>\n",
              "      <th>4</th>\n",
              "      <td>0</td>\n",
              "      <td>0</td>\n",
              "      <td>0</td>\n",
              "      <td>8.0500</td>\n",
              "      <td>0</td>\n",
              "      <td>1</td>\n",
              "      <td>0</td>\n",
              "      <td>1</td>\n",
              "      <td>0</td>\n",
              "      <td>0</td>\n",
              "      <td>1</td>\n",
              "      <td>0</td>\n",
              "      <td>0</td>\n",
              "      <td>0</td>\n",
              "      <td>0</td>\n",
              "      <td>1</td>\n",
              "    </tr>\n",
              "  </tbody>\n",
              "</table>\n",
              "</div>\n",
              "      <button class=\"colab-df-convert\" onclick=\"convertToInteractive('df-9ba68673-90e9-46c6-8b56-f0b056945cf2')\"\n",
              "              title=\"Convert this dataframe to an interactive table.\"\n",
              "              style=\"display:none;\">\n",
              "        \n",
              "  <svg xmlns=\"http://www.w3.org/2000/svg\" height=\"24px\"viewBox=\"0 0 24 24\"\n",
              "       width=\"24px\">\n",
              "    <path d=\"M0 0h24v24H0V0z\" fill=\"none\"/>\n",
              "    <path d=\"M18.56 5.44l.94 2.06.94-2.06 2.06-.94-2.06-.94-.94-2.06-.94 2.06-2.06.94zm-11 1L8.5 8.5l.94-2.06 2.06-.94-2.06-.94L8.5 2.5l-.94 2.06-2.06.94zm10 10l.94 2.06.94-2.06 2.06-.94-2.06-.94-.94-2.06-.94 2.06-2.06.94z\"/><path d=\"M17.41 7.96l-1.37-1.37c-.4-.4-.92-.59-1.43-.59-.52 0-1.04.2-1.43.59L10.3 9.45l-7.72 7.72c-.78.78-.78 2.05 0 2.83L4 21.41c.39.39.9.59 1.41.59.51 0 1.02-.2 1.41-.59l7.78-7.78 2.81-2.81c.8-.78.8-2.07 0-2.86zM5.41 20L4 18.59l7.72-7.72 1.47 1.35L5.41 20z\"/>\n",
              "  </svg>\n",
              "      </button>\n",
              "      \n",
              "  <style>\n",
              "    .colab-df-container {\n",
              "      display:flex;\n",
              "      flex-wrap:wrap;\n",
              "      gap: 12px;\n",
              "    }\n",
              "\n",
              "    .colab-df-convert {\n",
              "      background-color: #E8F0FE;\n",
              "      border: none;\n",
              "      border-radius: 50%;\n",
              "      cursor: pointer;\n",
              "      display: none;\n",
              "      fill: #1967D2;\n",
              "      height: 32px;\n",
              "      padding: 0 0 0 0;\n",
              "      width: 32px;\n",
              "    }\n",
              "\n",
              "    .colab-df-convert:hover {\n",
              "      background-color: #E2EBFA;\n",
              "      box-shadow: 0px 1px 2px rgba(60, 64, 67, 0.3), 0px 1px 3px 1px rgba(60, 64, 67, 0.15);\n",
              "      fill: #174EA6;\n",
              "    }\n",
              "\n",
              "    [theme=dark] .colab-df-convert {\n",
              "      background-color: #3B4455;\n",
              "      fill: #D2E3FC;\n",
              "    }\n",
              "\n",
              "    [theme=dark] .colab-df-convert:hover {\n",
              "      background-color: #434B5C;\n",
              "      box-shadow: 0px 1px 3px 1px rgba(0, 0, 0, 0.15);\n",
              "      filter: drop-shadow(0px 1px 2px rgba(0, 0, 0, 0.3));\n",
              "      fill: #FFFFFF;\n",
              "    }\n",
              "  </style>\n",
              "\n",
              "      <script>\n",
              "        const buttonEl =\n",
              "          document.querySelector('#df-9ba68673-90e9-46c6-8b56-f0b056945cf2 button.colab-df-convert');\n",
              "        buttonEl.style.display =\n",
              "          google.colab.kernel.accessAllowed ? 'block' : 'none';\n",
              "\n",
              "        async function convertToInteractive(key) {\n",
              "          const element = document.querySelector('#df-9ba68673-90e9-46c6-8b56-f0b056945cf2');\n",
              "          const dataTable =\n",
              "            await google.colab.kernel.invokeFunction('convertToInteractive',\n",
              "                                                     [key], {});\n",
              "          if (!dataTable) return;\n",
              "\n",
              "          const docLinkHtml = 'Like what you see? Visit the ' +\n",
              "            '<a target=\"_blank\" href=https://colab.research.google.com/notebooks/data_table.ipynb>data table notebook</a>'\n",
              "            + ' to learn more about interactive tables.';\n",
              "          element.innerHTML = '';\n",
              "          dataTable['output_type'] = 'display_data';\n",
              "          await google.colab.output.renderOutput(dataTable, element);\n",
              "          const docLink = document.createElement('div');\n",
              "          docLink.innerHTML = docLinkHtml;\n",
              "          element.appendChild(docLink);\n",
              "        }\n",
              "      </script>\n",
              "    </div>\n",
              "  </div>\n",
              "  "
            ]
          },
          "metadata": {},
          "execution_count": 154
        }
      ]
    },
    {
      "cell_type": "code",
      "source": [
        "# Create X and y variables\n",
        "X = df.drop('Survived',axis=1) #independent variables\n",
        "y = df['Survived'] #dependent variable that we're trying to predict"
      ],
      "metadata": {
        "id": "mOoJHYuWPs4s"
      },
      "execution_count": 162,
      "outputs": []
    },
    {
      "cell_type": "code",
      "source": [
        "#Split the dataset into training and testing dataset\n",
        "from sklearn.model_selection import train_test_split\n",
        "\n",
        "X_train, X_test, y_train, y_test = train_test_split(X,y,test_size=0.3,random_state=101)"
      ],
      "metadata": {
        "id": "54ENBooIQOGU"
      },
      "execution_count": 159,
      "outputs": []
    },
    {
      "cell_type": "code",
      "source": [
        "#training the model\n",
        "from sklearn.linear_model import LogisticRegression\n",
        "logmodel = LogisticRegression(max_iter=1000)\n",
        "logmodel.fit(X_train,y_train)"
      ],
      "metadata": {
        "colab": {
          "base_uri": "https://localhost:8080/",
          "height": 75
        },
        "id": "QbeEVkrIQdl_",
        "outputId": "a3cf4f63-cbfa-4e33-c912-63de302ef3e9"
      },
      "execution_count": 164,
      "outputs": [
        {
          "output_type": "execute_result",
          "data": {
            "text/plain": [
              "LogisticRegression(max_iter=1000)"
            ],
            "text/html": [
              "<style>#sk-container-id-3 {color: black;background-color: white;}#sk-container-id-3 pre{padding: 0;}#sk-container-id-3 div.sk-toggleable {background-color: white;}#sk-container-id-3 label.sk-toggleable__label {cursor: pointer;display: block;width: 100%;margin-bottom: 0;padding: 0.3em;box-sizing: border-box;text-align: center;}#sk-container-id-3 label.sk-toggleable__label-arrow:before {content: \"▸\";float: left;margin-right: 0.25em;color: #696969;}#sk-container-id-3 label.sk-toggleable__label-arrow:hover:before {color: black;}#sk-container-id-3 div.sk-estimator:hover label.sk-toggleable__label-arrow:before {color: black;}#sk-container-id-3 div.sk-toggleable__content {max-height: 0;max-width: 0;overflow: hidden;text-align: left;background-color: #f0f8ff;}#sk-container-id-3 div.sk-toggleable__content pre {margin: 0.2em;color: black;border-radius: 0.25em;background-color: #f0f8ff;}#sk-container-id-3 input.sk-toggleable__control:checked~div.sk-toggleable__content {max-height: 200px;max-width: 100%;overflow: auto;}#sk-container-id-3 input.sk-toggleable__control:checked~label.sk-toggleable__label-arrow:before {content: \"▾\";}#sk-container-id-3 div.sk-estimator input.sk-toggleable__control:checked~label.sk-toggleable__label {background-color: #d4ebff;}#sk-container-id-3 div.sk-label input.sk-toggleable__control:checked~label.sk-toggleable__label {background-color: #d4ebff;}#sk-container-id-3 input.sk-hidden--visually {border: 0;clip: rect(1px 1px 1px 1px);clip: rect(1px, 1px, 1px, 1px);height: 1px;margin: -1px;overflow: hidden;padding: 0;position: absolute;width: 1px;}#sk-container-id-3 div.sk-estimator {font-family: monospace;background-color: #f0f8ff;border: 1px dotted black;border-radius: 0.25em;box-sizing: border-box;margin-bottom: 0.5em;}#sk-container-id-3 div.sk-estimator:hover {background-color: #d4ebff;}#sk-container-id-3 div.sk-parallel-item::after {content: \"\";width: 100%;border-bottom: 1px solid gray;flex-grow: 1;}#sk-container-id-3 div.sk-label:hover label.sk-toggleable__label {background-color: #d4ebff;}#sk-container-id-3 div.sk-serial::before {content: \"\";position: absolute;border-left: 1px solid gray;box-sizing: border-box;top: 0;bottom: 0;left: 50%;z-index: 0;}#sk-container-id-3 div.sk-serial {display: flex;flex-direction: column;align-items: center;background-color: white;padding-right: 0.2em;padding-left: 0.2em;position: relative;}#sk-container-id-3 div.sk-item {position: relative;z-index: 1;}#sk-container-id-3 div.sk-parallel {display: flex;align-items: stretch;justify-content: center;background-color: white;position: relative;}#sk-container-id-3 div.sk-item::before, #sk-container-id-3 div.sk-parallel-item::before {content: \"\";position: absolute;border-left: 1px solid gray;box-sizing: border-box;top: 0;bottom: 0;left: 50%;z-index: -1;}#sk-container-id-3 div.sk-parallel-item {display: flex;flex-direction: column;z-index: 1;position: relative;background-color: white;}#sk-container-id-3 div.sk-parallel-item:first-child::after {align-self: flex-end;width: 50%;}#sk-container-id-3 div.sk-parallel-item:last-child::after {align-self: flex-start;width: 50%;}#sk-container-id-3 div.sk-parallel-item:only-child::after {width: 0;}#sk-container-id-3 div.sk-dashed-wrapped {border: 1px dashed gray;margin: 0 0.4em 0.5em 0.4em;box-sizing: border-box;padding-bottom: 0.4em;background-color: white;}#sk-container-id-3 div.sk-label label {font-family: monospace;font-weight: bold;display: inline-block;line-height: 1.2em;}#sk-container-id-3 div.sk-label-container {text-align: center;}#sk-container-id-3 div.sk-container {/* jupyter's `normalize.less` sets `[hidden] { display: none; }` but bootstrap.min.css set `[hidden] { display: none !important; }` so we also need the `!important` here to be able to override the default hidden behavior on the sphinx rendered scikit-learn.org. See: https://github.com/scikit-learn/scikit-learn/issues/21755 */display: inline-block !important;position: relative;}#sk-container-id-3 div.sk-text-repr-fallback {display: none;}</style><div id=\"sk-container-id-3\" class=\"sk-top-container\"><div class=\"sk-text-repr-fallback\"><pre>LogisticRegression(max_iter=1000)</pre><b>In a Jupyter environment, please rerun this cell to show the HTML representation or trust the notebook. <br />On GitHub, the HTML representation is unable to render, please try loading this page with nbviewer.org.</b></div><div class=\"sk-container\" hidden><div class=\"sk-item\"><div class=\"sk-estimator sk-toggleable\"><input class=\"sk-toggleable__control sk-hidden--visually\" id=\"sk-estimator-id-3\" type=\"checkbox\" checked><label for=\"sk-estimator-id-3\" class=\"sk-toggleable__label sk-toggleable__label-arrow\">LogisticRegression</label><div class=\"sk-toggleable__content\"><pre>LogisticRegression(max_iter=1000)</pre></div></div></div></div></div>"
            ]
          },
          "metadata": {},
          "execution_count": 164
        }
      ]
    },
    {
      "cell_type": "code",
      "source": [
        "#make predictions on the test dataset\n",
        "predictions = logmodel.predict(X_test)"
      ],
      "metadata": {
        "id": "kMdtIRX6SM5x"
      },
      "execution_count": 167,
      "outputs": []
    },
    {
      "cell_type": "code",
      "source": [
        "from sklearn.metrics import classification_report\n",
        "print(classification_report(y_test,predictions))"
      ],
      "metadata": {
        "colab": {
          "base_uri": "https://localhost:8080/"
        },
        "id": "6toE9U1rUzoY",
        "outputId": "ec2aaae4-6783-49dc-93c0-34663e756856"
      },
      "execution_count": 168,
      "outputs": [
        {
          "output_type": "stream",
          "name": "stdout",
          "text": [
            "              precision    recall  f1-score   support\n",
            "\n",
            "           0       0.78      0.90      0.83       154\n",
            "           1       0.83      0.65      0.73       114\n",
            "\n",
            "    accuracy                           0.79       268\n",
            "   macro avg       0.80      0.78      0.78       268\n",
            "weighted avg       0.80      0.79      0.79       268\n",
            "\n"
          ]
        }
      ]
    },
    {
      "cell_type": "code",
      "source": [
        "from sklearn.metrics import confusion_matrix\n",
        "print(confusion_matrix(y_test,predictions))"
      ],
      "metadata": {
        "colab": {
          "base_uri": "https://localhost:8080/"
        },
        "id": "1e_T6RNaVSm0",
        "outputId": "71df4825-6098-4b94-ff64-c51ee4d93f10"
      },
      "execution_count": 169,
      "outputs": [
        {
          "output_type": "stream",
          "name": "stdout",
          "text": [
            "[[139  15]\n",
            " [ 40  74]]\n"
          ]
        }
      ]
    },
    {
      "cell_type": "code",
      "source": [],
      "metadata": {
        "id": "SCyZDClkXQzi"
      },
      "execution_count": null,
      "outputs": []
    }
  ]
}