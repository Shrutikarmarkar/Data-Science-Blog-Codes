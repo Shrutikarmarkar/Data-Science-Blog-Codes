{
  "nbformat": 4,
  "nbformat_minor": 0,
  "metadata": {
    "colab": {
      "provenance": []
    },
    "kernelspec": {
      "name": "python3",
      "display_name": "Python 3"
    },
    "language_info": {
      "name": "python"
    }
  },
  "cells": [
    {
      "cell_type": "markdown",
      "source": [
        "# DESCRIPTIVE STATISTICS"
      ],
      "metadata": {
        "id": "i5MieefddrHV"
      }
    },
    {
      "cell_type": "code",
      "source": [
        "# importing necessary libraries\n",
        "import pandas as pd\n",
        "import matplotlib.pyplot as plt\n"
      ],
      "metadata": {
        "id": "rEMA9QnLe-O9"
      },
      "execution_count": 1,
      "outputs": []
    },
    {
      "cell_type": "code",
      "execution_count": null,
      "metadata": {
        "colab": {
          "base_uri": "https://localhost:8080/",
          "height": 206
        },
        "id": "xiwTQEeX9Mgx",
        "outputId": "2780947b-15e4-4498-db86-cff8baa2bb2d"
      },
      "outputs": [
        {
          "output_type": "execute_result",
          "data": {
            "text/plain": [
              "   Store        Date  Weekly_Sales  Holiday_Flag  Temperature  Fuel_Price  \\\n",
              "0      1  05-02-2010    1643690.90             0        42.31       2.572   \n",
              "1      1  12-02-2010    1641957.44             1        38.51       2.548   \n",
              "2      1  19-02-2010    1611968.17             0        39.93       2.514   \n",
              "3      1  26-02-2010    1409727.59             0        46.63       2.561   \n",
              "4      1  05-03-2010    1554806.68             0        46.50       2.625   \n",
              "\n",
              "          CPI  Unemployment  \n",
              "0  211.096358         8.106  \n",
              "1  211.242170         8.106  \n",
              "2  211.289143         8.106  \n",
              "3  211.319643         8.106  \n",
              "4  211.350143         8.106  "
            ],
            "text/html": [
              "\n",
              "  <div id=\"df-2770d87f-7cc2-4d7b-8efa-5968d3f17d1f\">\n",
              "    <div class=\"colab-df-container\">\n",
              "      <div>\n",
              "<style scoped>\n",
              "    .dataframe tbody tr th:only-of-type {\n",
              "        vertical-align: middle;\n",
              "    }\n",
              "\n",
              "    .dataframe tbody tr th {\n",
              "        vertical-align: top;\n",
              "    }\n",
              "\n",
              "    .dataframe thead th {\n",
              "        text-align: right;\n",
              "    }\n",
              "</style>\n",
              "<table border=\"1\" class=\"dataframe\">\n",
              "  <thead>\n",
              "    <tr style=\"text-align: right;\">\n",
              "      <th></th>\n",
              "      <th>Store</th>\n",
              "      <th>Date</th>\n",
              "      <th>Weekly_Sales</th>\n",
              "      <th>Holiday_Flag</th>\n",
              "      <th>Temperature</th>\n",
              "      <th>Fuel_Price</th>\n",
              "      <th>CPI</th>\n",
              "      <th>Unemployment</th>\n",
              "    </tr>\n",
              "  </thead>\n",
              "  <tbody>\n",
              "    <tr>\n",
              "      <th>0</th>\n",
              "      <td>1</td>\n",
              "      <td>05-02-2010</td>\n",
              "      <td>1643690.90</td>\n",
              "      <td>0</td>\n",
              "      <td>42.31</td>\n",
              "      <td>2.572</td>\n",
              "      <td>211.096358</td>\n",
              "      <td>8.106</td>\n",
              "    </tr>\n",
              "    <tr>\n",
              "      <th>1</th>\n",
              "      <td>1</td>\n",
              "      <td>12-02-2010</td>\n",
              "      <td>1641957.44</td>\n",
              "      <td>1</td>\n",
              "      <td>38.51</td>\n",
              "      <td>2.548</td>\n",
              "      <td>211.242170</td>\n",
              "      <td>8.106</td>\n",
              "    </tr>\n",
              "    <tr>\n",
              "      <th>2</th>\n",
              "      <td>1</td>\n",
              "      <td>19-02-2010</td>\n",
              "      <td>1611968.17</td>\n",
              "      <td>0</td>\n",
              "      <td>39.93</td>\n",
              "      <td>2.514</td>\n",
              "      <td>211.289143</td>\n",
              "      <td>8.106</td>\n",
              "    </tr>\n",
              "    <tr>\n",
              "      <th>3</th>\n",
              "      <td>1</td>\n",
              "      <td>26-02-2010</td>\n",
              "      <td>1409727.59</td>\n",
              "      <td>0</td>\n",
              "      <td>46.63</td>\n",
              "      <td>2.561</td>\n",
              "      <td>211.319643</td>\n",
              "      <td>8.106</td>\n",
              "    </tr>\n",
              "    <tr>\n",
              "      <th>4</th>\n",
              "      <td>1</td>\n",
              "      <td>05-03-2010</td>\n",
              "      <td>1554806.68</td>\n",
              "      <td>0</td>\n",
              "      <td>46.50</td>\n",
              "      <td>2.625</td>\n",
              "      <td>211.350143</td>\n",
              "      <td>8.106</td>\n",
              "    </tr>\n",
              "  </tbody>\n",
              "</table>\n",
              "</div>\n",
              "      <button class=\"colab-df-convert\" onclick=\"convertToInteractive('df-2770d87f-7cc2-4d7b-8efa-5968d3f17d1f')\"\n",
              "              title=\"Convert this dataframe to an interactive table.\"\n",
              "              style=\"display:none;\">\n",
              "        \n",
              "  <svg xmlns=\"http://www.w3.org/2000/svg\" height=\"24px\"viewBox=\"0 0 24 24\"\n",
              "       width=\"24px\">\n",
              "    <path d=\"M0 0h24v24H0V0z\" fill=\"none\"/>\n",
              "    <path d=\"M18.56 5.44l.94 2.06.94-2.06 2.06-.94-2.06-.94-.94-2.06-.94 2.06-2.06.94zm-11 1L8.5 8.5l.94-2.06 2.06-.94-2.06-.94L8.5 2.5l-.94 2.06-2.06.94zm10 10l.94 2.06.94-2.06 2.06-.94-2.06-.94-.94-2.06-.94 2.06-2.06.94z\"/><path d=\"M17.41 7.96l-1.37-1.37c-.4-.4-.92-.59-1.43-.59-.52 0-1.04.2-1.43.59L10.3 9.45l-7.72 7.72c-.78.78-.78 2.05 0 2.83L4 21.41c.39.39.9.59 1.41.59.51 0 1.02-.2 1.41-.59l7.78-7.78 2.81-2.81c.8-.78.8-2.07 0-2.86zM5.41 20L4 18.59l7.72-7.72 1.47 1.35L5.41 20z\"/>\n",
              "  </svg>\n",
              "      </button>\n",
              "      \n",
              "  <style>\n",
              "    .colab-df-container {\n",
              "      display:flex;\n",
              "      flex-wrap:wrap;\n",
              "      gap: 12px;\n",
              "    }\n",
              "\n",
              "    .colab-df-convert {\n",
              "      background-color: #E8F0FE;\n",
              "      border: none;\n",
              "      border-radius: 50%;\n",
              "      cursor: pointer;\n",
              "      display: none;\n",
              "      fill: #1967D2;\n",
              "      height: 32px;\n",
              "      padding: 0 0 0 0;\n",
              "      width: 32px;\n",
              "    }\n",
              "\n",
              "    .colab-df-convert:hover {\n",
              "      background-color: #E2EBFA;\n",
              "      box-shadow: 0px 1px 2px rgba(60, 64, 67, 0.3), 0px 1px 3px 1px rgba(60, 64, 67, 0.15);\n",
              "      fill: #174EA6;\n",
              "    }\n",
              "\n",
              "    [theme=dark] .colab-df-convert {\n",
              "      background-color: #3B4455;\n",
              "      fill: #D2E3FC;\n",
              "    }\n",
              "\n",
              "    [theme=dark] .colab-df-convert:hover {\n",
              "      background-color: #434B5C;\n",
              "      box-shadow: 0px 1px 3px 1px rgba(0, 0, 0, 0.15);\n",
              "      filter: drop-shadow(0px 1px 2px rgba(0, 0, 0, 0.3));\n",
              "      fill: #FFFFFF;\n",
              "    }\n",
              "  </style>\n",
              "\n",
              "      <script>\n",
              "        const buttonEl =\n",
              "          document.querySelector('#df-2770d87f-7cc2-4d7b-8efa-5968d3f17d1f button.colab-df-convert');\n",
              "        buttonEl.style.display =\n",
              "          google.colab.kernel.accessAllowed ? 'block' : 'none';\n",
              "\n",
              "        async function convertToInteractive(key) {\n",
              "          const element = document.querySelector('#df-2770d87f-7cc2-4d7b-8efa-5968d3f17d1f');\n",
              "          const dataTable =\n",
              "            await google.colab.kernel.invokeFunction('convertToInteractive',\n",
              "                                                     [key], {});\n",
              "          if (!dataTable) return;\n",
              "\n",
              "          const docLinkHtml = 'Like what you see? Visit the ' +\n",
              "            '<a target=\"_blank\" href=https://colab.research.google.com/notebooks/data_table.ipynb>data table notebook</a>'\n",
              "            + ' to learn more about interactive tables.';\n",
              "          element.innerHTML = '';\n",
              "          dataTable['output_type'] = 'display_data';\n",
              "          await google.colab.output.renderOutput(dataTable, element);\n",
              "          const docLink = document.createElement('div');\n",
              "          docLink.innerHTML = docLinkHtml;\n",
              "          element.appendChild(docLink);\n",
              "        }\n",
              "      </script>\n",
              "    </div>\n",
              "  </div>\n",
              "  "
            ]
          },
          "metadata": {},
          "execution_count": 1
        }
      ],
      "source": [
        "# importing Walmart Sales Dataset\n",
        "data = pd.read_csv(\"/content/Walmart Data Analysis and Forcasting.csv\")\n",
        "data.head()"
      ]
    },
    {
      "cell_type": "markdown",
      "source": [
        "## Measures of Central Tendency"
      ],
      "metadata": {
        "id": "-SSxNzxzcoLU"
      }
    },
    {
      "cell_type": "markdown",
      "source": [
        "### Average Weekly Sales of Walmart\n",
        "Find average Weekly Sales of Walmart\n",
        "\n",
        "Start by creating a histogram plot to analyze the distribution of Weekly Sales data"
      ],
      "metadata": {
        "id": "HhnD1_aLBM9l"
      }
    },
    {
      "cell_type": "code",
      "source": [
        "# Plotting the Weekly Sales column\n",
        "plt.hist(data['Weekly_Sales'], bins=10)\n",
        "\n",
        "#Representing mean and median on the graph\n",
        "plt.axvline(data['Weekly_Sales'].mean(), color='red', linestyle='--', label=f\"Mean = {data['Weekly_Sales'].mean()}\")\n",
        "plt.axvline(data['Weekly_Sales'].median(), color='yellow', linestyle='--', label=f'Median = {data[\"Weekly_Sales\"].median()}')\n",
        "\n",
        "plt.legend()\n",
        "# Displaying the plot\n",
        "plt.show()\n"
      ],
      "metadata": {
        "colab": {
          "base_uri": "https://localhost:8080/",
          "height": 448
        },
        "id": "1MvCwJuJAMbK",
        "outputId": "f1a1d705-5fc4-4330-e584-0aa2a4295818"
      },
      "execution_count": null,
      "outputs": [
        {
          "output_type": "display_data",
          "data": {
            "text/plain": [
              "<Figure size 640x480 with 1 Axes>"
            ],
            "image/png": "[encoded data removed]"
          },
          "metadata": {}
        }
      ]
    },
    {
      "cell_type": "code",
      "source": [
        "data['Weekly_Sales'].mean()-data['Weekly_Sales'].median()"
      ],
      "metadata": {
        "id": "mjjKyrpHBgiu",
        "colab": {
          "base_uri": "https://localhost:8080/"
        },
        "outputId": "477e59ef-5211-4f5f-e79e-f9b43240631e"
      },
      "execution_count": null,
      "outputs": [
        {
          "output_type": "execute_result",
          "data": {
            "text/plain": [
              "86218.8375617715"
            ]
          },
          "metadata": {},
          "execution_count": 3
        }
      ]
    },
    {
      "cell_type": "markdown",
      "source": [
        "Since the Weekly Sales data is right skewed, it is appropriate to consider median as the measure of central tendency\n",
        "\n",
        "Therefore, average weekly sales of Walmart is 960746.04"
      ],
      "metadata": {
        "id": "vuKQVJzknwLU"
      }
    },
    {
      "cell_type": "markdown",
      "source": [
        "###Find average Fuel Price\n",
        "(This column denotes the fuel price during the given week. It helps in analyzing the impact of fuel prices on sales.)"
      ],
      "metadata": {
        "id": "1XbbQEM4jPN3"
      }
    },
    {
      "cell_type": "code",
      "source": [
        "# Plotting Fule Price column\n",
        "plt.hist(data['Fuel_Price'],bins=10)\n",
        "\n",
        "#Representing mean and median on the graph\n",
        "plt.axvline(data['Fuel_Price'].mean(), color='red', linestyle='--', label=f'Mean: {data[\"Fuel_Price\"].mean()}')\n",
        "plt.axvline(data['Fuel_Price'].median(), color='yellow', linestyle='--', label=f'Median: {data[\"Fuel_Price\"].median()}')\n",
        "\n",
        "plt.legend()\n",
        "\n",
        "plt.show()"
      ],
      "metadata": {
        "colab": {
          "base_uri": "https://localhost:8080/",
          "height": 430
        },
        "id": "mZ0k-rfuZVJr",
        "outputId": "e67dbe50-5699-49aa-cffc-6c3d7f95d7eb"
      },
      "execution_count": null,
      "outputs": [
        {
          "output_type": "display_data",
          "data": {
            "text/plain": [
              "<Figure size 640x480 with 1 Axes>"
            ],
            "image/png": "[encoded data removed]"
          },
          "metadata": {}
        }
      ]
    },
    {
      "cell_type": "code",
      "source": [
        "data['Fuel_Price'].median() - data['Fuel_Price'].mean()"
      ],
      "metadata": {
        "colab": {
          "base_uri": "https://localhost:8080/"
        },
        "id": "lLH4wL71gICR",
        "outputId": "c9d461bd-d93f-4cb1-c3ca-e32617b9c569"
      },
      "execution_count": null,
      "outputs": [
        {
          "output_type": "execute_result",
          "data": {
            "text/plain": [
              "0.08639316239316175"
            ]
          },
          "metadata": {},
          "execution_count": 5
        }
      ]
    },
    {
      "cell_type": "markdown",
      "source": [
        "The distribution of values appears relatively symmetrical for the temperature data.\n",
        "\n",
        "Hence, we can consider the average temperature to be 3.3586."
      ],
      "metadata": {
        "id": "5pMNEpAtoRzL"
      }
    },
    {
      "cell_type": "markdown",
      "source": [
        "### What is the most common unemployment rate among the reported value?\n",
        "This column represents the unemployment rate during the given week. It helps in examining the relationship between the job market and sales.\n",
        "This information can assets Walmart for better Workforce planning, economic analysis, etc.\n"
      ],
      "metadata": {
        "id": "I5MqKVal6nLy"
      }
    },
    {
      "cell_type": "code",
      "source": [
        "data['Unemployment'].mode()"
      ],
      "metadata": {
        "id": "76R45aMugh2r",
        "colab": {
          "base_uri": "https://localhost:8080/"
        },
        "outputId": "e457c376-3b14-4cc3-8fa6-428a95a46638"
      },
      "execution_count": null,
      "outputs": [
        {
          "output_type": "execute_result",
          "data": {
            "text/plain": [
              "0    8.099\n",
              "Name: Unemployment, dtype: float64"
            ]
          },
          "metadata": {},
          "execution_count": 10
        }
      ]
    },
    {
      "cell_type": "markdown",
      "source": [
        "### Bonus\n",
        "Demonstrating mode on Categorical data"
      ],
      "metadata": {
        "id": "D9qUpJWjD9ye"
      }
    },
    {
      "cell_type": "code",
      "source": [
        "#import Switch Game dataset\n",
        "df = pd.read_csv(\"/content/Switchgames.csv\")\n",
        "df.head()"
      ],
      "metadata": {
        "colab": {
          "base_uri": "https://localhost:8080/",
          "height": 206
        },
        "id": "MGlaB8iO7P3g",
        "outputId": "3935ab92-492a-4fe6-cb53-19f85e3b4815"
      },
      "execution_count": null,
      "outputs": [
        {
          "output_type": "execute_result",
          "data": {
            "text/plain": [
              "   No.                                    Title  Copies sold      As of  \\\n",
              "0    1                      Mario Kart 8 Deluxe        33.41  31-Dec-20   \n",
              "1    2            Animal Crossing: New Horizons        31.18  31-Dec-20   \n",
              "2    3               Super Smash Bros. Ultimate        22.85  31-Dec-20   \n",
              "3    4  The Legend of Zelda: Breath of the Wild        21.45  31-Dec-20   \n",
              "4    5                 Pokémon Sword and Shield        20.35  31-Dec-20   \n",
              "\n",
              "  Release date           Genre(s)          Developer(s)         Publisher(s)  \n",
              "0    28-Apr-17        Kart racing          Nintendo EPD             Nintendo  \n",
              "1    20-Mar-20  Social simulation          Nintendo EPD             Nintendo  \n",
              "2     7-Dec-18           Fighting  Bandai Namco Studios             Nintendo  \n",
              "3     3-Mar-17   Action-adventure          Nintendo EPD             Nintendo  \n",
              "4    15-Nov-19       Role-playing            Game Freak  The Pokémon Company  "
            ],
            "text/html": [
              "\n",
              "  <div id=\"df-083b36c1-4804-46e6-8b6f-3c5d2a5a33d7\">\n",
              "    <div class=\"colab-df-container\">\n",
              "      <div>\n",
              "<style scoped>\n",
              "    .dataframe tbody tr th:only-of-type {\n",
              "        vertical-align: middle;\n",
              "    }\n",
              "\n",
              "    .dataframe tbody tr th {\n",
              "        vertical-align: top;\n",
              "    }\n",
              "\n",
              "    .dataframe thead th {\n",
              "        text-align: right;\n",
              "    }\n",
              "</style>\n",
              "<table border=\"1\" class=\"dataframe\">\n",
              "  <thead>\n",
              "    <tr style=\"text-align: right;\">\n",
              "      <th></th>\n",
              "      <th>No.</th>\n",
              "      <th>Title</th>\n",
              "      <th>Copies sold</th>\n",
              "      <th>As of</th>\n",
              "      <th>Release date</th>\n",
              "      <th>Genre(s)</th>\n",
              "      <th>Developer(s)</th>\n",
              "      <th>Publisher(s)</th>\n",
              "    </tr>\n",
              "  </thead>\n",
              "  <tbody>\n",
              "    <tr>\n",
              "      <th>0</th>\n",
              "      <td>1</td>\n",
              "      <td>Mario Kart 8 Deluxe</td>\n",
              "      <td>33.41</td>\n",
              "      <td>31-Dec-20</td>\n",
              "      <td>28-Apr-17</td>\n",
              "      <td>Kart racing</td>\n",
              "      <td>Nintendo EPD</td>\n",
              "      <td>Nintendo</td>\n",
              "    </tr>\n",
              "    <tr>\n",
              "      <th>1</th>\n",
              "      <td>2</td>\n",
              "      <td>Animal Crossing: New Horizons</td>\n",
              "      <td>31.18</td>\n",
              "      <td>31-Dec-20</td>\n",
              "      <td>20-Mar-20</td>\n",
              "      <td>Social simulation</td>\n",
              "      <td>Nintendo EPD</td>\n",
              "      <td>Nintendo</td>\n",
              "    </tr>\n",
              "    <tr>\n",
              "      <th>2</th>\n",
              "      <td>3</td>\n",
              "      <td>Super Smash Bros. Ultimate</td>\n",
              "      <td>22.85</td>\n",
              "      <td>31-Dec-20</td>\n",
              "      <td>7-Dec-18</td>\n",
              "      <td>Fighting</td>\n",
              "      <td>Bandai Namco Studios</td>\n",
              "      <td>Nintendo</td>\n",
              "    </tr>\n",
              "    <tr>\n",
              "      <th>3</th>\n",
              "      <td>4</td>\n",
              "      <td>The Legend of Zelda: Breath of the Wild</td>\n",
              "      <td>21.45</td>\n",
              "      <td>31-Dec-20</td>\n",
              "      <td>3-Mar-17</td>\n",
              "      <td>Action-adventure</td>\n",
              "      <td>Nintendo EPD</td>\n",
              "      <td>Nintendo</td>\n",
              "    </tr>\n",
              "    <tr>\n",
              "      <th>4</th>\n",
              "      <td>5</td>\n",
              "      <td>Pokémon Sword and Shield</td>\n",
              "      <td>20.35</td>\n",
              "      <td>31-Dec-20</td>\n",
              "      <td>15-Nov-19</td>\n",
              "      <td>Role-playing</td>\n",
              "      <td>Game Freak</td>\n",
              "      <td>The Pokémon Company</td>\n",
              "    </tr>\n",
              "  </tbody>\n",
              "</table>\n",
              "</div>\n",
              "      <button class=\"colab-df-convert\" onclick=\"convertToInteractive('df-083b36c1-4804-46e6-8b6f-3c5d2a5a33d7')\"\n",
              "              title=\"Convert this dataframe to an interactive table.\"\n",
              "              style=\"display:none;\">\n",
              "        \n",
              "  <svg xmlns=\"http://www.w3.org/2000/svg\" height=\"24px\"viewBox=\"0 0 24 24\"\n",
              "       width=\"24px\">\n",
              "    <path d=\"M0 0h24v24H0V0z\" fill=\"none\"/>\n",
              "    <path d=\"M18.56 5.44l.94 2.06.94-2.06 2.06-.94-2.06-.94-.94-2.06-.94 2.06-2.06.94zm-11 1L8.5 8.5l.94-2.06 2.06-.94-2.06-.94L8.5 2.5l-.94 2.06-2.06.94zm10 10l.94 2.06.94-2.06 2.06-.94-2.06-.94-.94-2.06-.94 2.06-2.06.94z\"/><path d=\"M17.41 7.96l-1.37-1.37c-.4-.4-.92-.59-1.43-.59-.52 0-1.04.2-1.43.59L10.3 9.45l-7.72 7.72c-.78.78-.78 2.05 0 2.83L4 21.41c.39.39.9.59 1.41.59.51 0 1.02-.2 1.41-.59l7.78-7.78 2.81-2.81c.8-.78.8-2.07 0-2.86zM5.41 20L4 18.59l7.72-7.72 1.47 1.35L5.41 20z\"/>\n",
              "  </svg>\n",
              "      </button>\n",
              "      \n",
              "  <style>\n",
              "    .colab-df-container {\n",
              "      display:flex;\n",
              "      flex-wrap:wrap;\n",
              "      gap: 12px;\n",
              "    }\n",
              "\n",
              "    .colab-df-convert {\n",
              "      background-color: #E8F0FE;\n",
              "      border: none;\n",
              "      border-radius: 50%;\n",
              "      cursor: pointer;\n",
              "      display: none;\n",
              "      fill: #1967D2;\n",
              "      height: 32px;\n",
              "      padding: 0 0 0 0;\n",
              "      width: 32px;\n",
              "    }\n",
              "\n",
              "    .colab-df-convert:hover {\n",
              "      background-color: #E2EBFA;\n",
              "      box-shadow: 0px 1px 2px rgba(60, 64, 67, 0.3), 0px 1px 3px 1px rgba(60, 64, 67, 0.15);\n",
              "      fill: #174EA6;\n",
              "    }\n",
              "\n",
              "    [theme=dark] .colab-df-convert {\n",
              "      background-color: #3B4455;\n",
              "      fill: #D2E3FC;\n",
              "    }\n",
              "\n",
              "    [theme=dark] .colab-df-convert:hover {\n",
              "      background-color: #434B5C;\n",
              "      box-shadow: 0px 1px 3px 1px rgba(0, 0, 0, 0.15);\n",
              "      filter: drop-shadow(0px 1px 2px rgba(0, 0, 0, 0.3));\n",
              "      fill: #FFFFFF;\n",
              "    }\n",
              "  </style>\n",
              "\n",
              "      <script>\n",
              "        const buttonEl =\n",
              "          document.querySelector('#df-083b36c1-4804-46e6-8b6f-3c5d2a5a33d7 button.colab-df-convert');\n",
              "        buttonEl.style.display =\n",
              "          google.colab.kernel.accessAllowed ? 'block' : 'none';\n",
              "\n",
              "        async function convertToInteractive(key) {\n",
              "          const element = document.querySelector('#df-083b36c1-4804-46e6-8b6f-3c5d2a5a33d7');\n",
              "          const dataTable =\n",
              "            await google.colab.kernel.invokeFunction('convertToInteractive',\n",
              "                                                     [key], {});\n",
              "          if (!dataTable) return;\n",
              "\n",
              "          const docLinkHtml = 'Like what you see? Visit the ' +\n",
              "            '<a target=\"_blank\" href=https://colab.research.google.com/notebooks/data_table.ipynb>data table notebook</a>'\n",
              "            + ' to learn more about interactive tables.';\n",
              "          element.innerHTML = '';\n",
              "          dataTable['output_type'] = 'display_data';\n",
              "          await google.colab.output.renderOutput(dataTable, element);\n",
              "          const docLink = document.createElement('div');\n",
              "          docLink.innerHTML = docLinkHtml;\n",
              "          element.appendChild(docLink);\n",
              "        }\n",
              "      </script>\n",
              "    </div>\n",
              "  </div>\n",
              "  "
            ]
          },
          "metadata": {},
          "execution_count": 11
        }
      ]
    },
    {
      "cell_type": "markdown",
      "source": [
        "### What is the most common game genre?"
      ],
      "metadata": {
        "id": "N8IS63XpEl09"
      }
    },
    {
      "cell_type": "code",
      "source": [
        "df['Genre(s)'].value_counts().plot(kind='bar')"
      ],
      "metadata": {
        "colab": {
          "base_uri": "https://localhost:8080/",
          "height": 578
        },
        "id": "sOjUsL9DEg0J",
        "outputId": "4452632a-0b9e-46af-b49f-67e80b68ba2f"
      },
      "execution_count": null,
      "outputs": [
        {
          "output_type": "execute_result",
          "data": {
            "text/plain": [
              "<Axes: >"
            ]
          },
          "metadata": {},
          "execution_count": 13
        },
        {
          "output_type": "display_data",
          "data": {
            "text/plain": [
              "<Figure size 640x480 with 1 Axes>"
            ],
            "image/png": "[encoded data removed]"
          },
          "metadata": {}
        }
      ]
    },
    {
      "cell_type": "markdown",
      "source": [
        "From the graph it is clear that Platformer is the most common genre of top selling games."
      ],
      "metadata": {
        "id": "Q2ZgdSW1dDFi"
      }
    },
    {
      "cell_type": "markdown",
      "source": [
        "## Measuring Variability"
      ],
      "metadata": {
        "id": "Uj1FJLGhcyJC"
      }
    },
    {
      "cell_type": "code",
      "source": [
        "# import Student Marksheet Dataset\n",
        "df2 = pd.read_csv(\"/content/marksheet.csv\")\n",
        "df2.head()"
      ],
      "metadata": {
        "id": "kWJcQnwhE09S",
        "colab": {
          "base_uri": "https://localhost:8080/",
          "height": 206
        },
        "outputId": "eb098a99-bd03-463d-b007-06af19e3ebe5"
      },
      "execution_count": 2,
      "outputs": [
        {
          "output_type": "execute_result",
          "data": {
            "text/plain": [
              "   id     Name  Gender  Age Section  Science  English  History  Maths\n",
              "0   1  Bronnie  Female   13       C       21       81       62     49\n",
              "1   2   Lemmie    Male   15       B       29       41       17     40\n",
              "2   3    Danya  Female   14       C       12       87       16     96\n",
              "3   4    Denna  Female   14       B       15       53       82     33\n",
              "4   5  Jocelin    Male   14       A       43        6        3     21"
            ],
            "text/html": [
              "\n",
              "  <div id=\"df-2331e42d-e26a-4475-a4f0-c5531c877f2f\">\n",
              "    <div class=\"colab-df-container\">\n",
              "      <div>\n",
              "<style scoped>\n",
              "    .dataframe tbody tr th:only-of-type {\n",
              "        vertical-align: middle;\n",
              "    }\n",
              "\n",
              "    .dataframe tbody tr th {\n",
              "        vertical-align: top;\n",
              "    }\n",
              "\n",
              "    .dataframe thead th {\n",
              "        text-align: right;\n",
              "    }\n",
              "</style>\n",
              "<table border=\"1\" class=\"dataframe\">\n",
              "  <thead>\n",
              "    <tr style=\"text-align: right;\">\n",
              "      <th></th>\n",
              "      <th>id</th>\n",
              "      <th>Name</th>\n",
              "      <th>Gender</th>\n",
              "      <th>Age</th>\n",
              "      <th>Section</th>\n",
              "      <th>Science</th>\n",
              "      <th>English</th>\n",
              "      <th>History</th>\n",
              "      <th>Maths</th>\n",
              "    </tr>\n",
              "  </thead>\n",
              "  <tbody>\n",
              "    <tr>\n",
              "      <th>0</th>\n",
              "      <td>1</td>\n",
              "      <td>Bronnie</td>\n",
              "      <td>Female</td>\n",
              "      <td>13</td>\n",
              "      <td>C</td>\n",
              "      <td>21</td>\n",
              "      <td>81</td>\n",
              "      <td>62</td>\n",
              "      <td>49</td>\n",
              "    </tr>\n",
              "    <tr>\n",
              "      <th>1</th>\n",
              "      <td>2</td>\n",
              "      <td>Lemmie</td>\n",
              "      <td>Male</td>\n",
              "      <td>15</td>\n",
              "      <td>B</td>\n",
              "      <td>29</td>\n",
              "      <td>41</td>\n",
              "      <td>17</td>\n",
              "      <td>40</td>\n",
              "    </tr>\n",
              "    <tr>\n",
              "      <th>2</th>\n",
              "      <td>3</td>\n",
              "      <td>Danya</td>\n",
              "      <td>Female</td>\n",
              "      <td>14</td>\n",
              "      <td>C</td>\n",
              "      <td>12</td>\n",
              "      <td>87</td>\n",
              "      <td>16</td>\n",
              "      <td>96</td>\n",
              "    </tr>\n",
              "    <tr>\n",
              "      <th>3</th>\n",
              "      <td>4</td>\n",
              "      <td>Denna</td>\n",
              "      <td>Female</td>\n",
              "      <td>14</td>\n",
              "      <td>B</td>\n",
              "      <td>15</td>\n",
              "      <td>53</td>\n",
              "      <td>82</td>\n",
              "      <td>33</td>\n",
              "    </tr>\n",
              "    <tr>\n",
              "      <th>4</th>\n",
              "      <td>5</td>\n",
              "      <td>Jocelin</td>\n",
              "      <td>Male</td>\n",
              "      <td>14</td>\n",
              "      <td>A</td>\n",
              "      <td>43</td>\n",
              "      <td>6</td>\n",
              "      <td>3</td>\n",
              "      <td>21</td>\n",
              "    </tr>\n",
              "  </tbody>\n",
              "</table>\n",
              "</div>\n",
              "      <button class=\"colab-df-convert\" onclick=\"convertToInteractive('df-2331e42d-e26a-4475-a4f0-c5531c877f2f')\"\n",
              "              title=\"Convert this dataframe to an interactive table.\"\n",
              "              style=\"display:none;\">\n",
              "        \n",
              "  <svg xmlns=\"http://www.w3.org/2000/svg\" height=\"24px\"viewBox=\"0 0 24 24\"\n",
              "       width=\"24px\">\n",
              "    <path d=\"M0 0h24v24H0V0z\" fill=\"none\"/>\n",
              "    <path d=\"M18.56 5.44l.94 2.06.94-2.06 2.06-.94-2.06-.94-.94-2.06-.94 2.06-2.06.94zm-11 1L8.5 8.5l.94-2.06 2.06-.94-2.06-.94L8.5 2.5l-.94 2.06-2.06.94zm10 10l.94 2.06.94-2.06 2.06-.94-2.06-.94-.94-2.06-.94 2.06-2.06.94z\"/><path d=\"M17.41 7.96l-1.37-1.37c-.4-.4-.92-.59-1.43-.59-.52 0-1.04.2-1.43.59L10.3 9.45l-7.72 7.72c-.78.78-.78 2.05 0 2.83L4 21.41c.39.39.9.59 1.41.59.51 0 1.02-.2 1.41-.59l7.78-7.78 2.81-2.81c.8-.78.8-2.07 0-2.86zM5.41 20L4 18.59l7.72-7.72 1.47 1.35L5.41 20z\"/>\n",
              "  </svg>\n",
              "      </button>\n",
              "      \n",
              "  <style>\n",
              "    .colab-df-container {\n",
              "      display:flex;\n",
              "      flex-wrap:wrap;\n",
              "      gap: 12px;\n",
              "    }\n",
              "\n",
              "    .colab-df-convert {\n",
              "      background-color: #E8F0FE;\n",
              "      border: none;\n",
              "      border-radius: 50%;\n",
              "      cursor: pointer;\n",
              "      display: none;\n",
              "      fill: #1967D2;\n",
              "      height: 32px;\n",
              "      padding: 0 0 0 0;\n",
              "      width: 32px;\n",
              "    }\n",
              "\n",
              "    .colab-df-convert:hover {\n",
              "      background-color: #E2EBFA;\n",
              "      box-shadow: 0px 1px 2px rgba(60, 64, 67, 0.3), 0px 1px 3px 1px rgba(60, 64, 67, 0.15);\n",
              "      fill: #174EA6;\n",
              "    }\n",
              "\n",
              "    [theme=dark] .colab-df-convert {\n",
              "      background-color: #3B4455;\n",
              "      fill: #D2E3FC;\n",
              "    }\n",
              "\n",
              "    [theme=dark] .colab-df-convert:hover {\n",
              "      background-color: #434B5C;\n",
              "      box-shadow: 0px 1px 3px 1px rgba(0, 0, 0, 0.15);\n",
              "      filter: drop-shadow(0px 1px 2px rgba(0, 0, 0, 0.3));\n",
              "      fill: #FFFFFF;\n",
              "    }\n",
              "  </style>\n",
              "\n",
              "      <script>\n",
              "        const buttonEl =\n",
              "          document.querySelector('#df-2331e42d-e26a-4475-a4f0-c5531c877f2f button.colab-df-convert');\n",
              "        buttonEl.style.display =\n",
              "          google.colab.kernel.accessAllowed ? 'block' : 'none';\n",
              "\n",
              "        async function convertToInteractive(key) {\n",
              "          const element = document.querySelector('#df-2331e42d-e26a-4475-a4f0-c5531c877f2f');\n",
              "          const dataTable =\n",
              "            await google.colab.kernel.invokeFunction('convertToInteractive',\n",
              "                                                     [key], {});\n",
              "          if (!dataTable) return;\n",
              "\n",
              "          const docLinkHtml = 'Like what you see? Visit the ' +\n",
              "            '<a target=\"_blank\" href=https://colab.research.google.com/notebooks/data_table.ipynb>data table notebook</a>'\n",
              "            + ' to learn more about interactive tables.';\n",
              "          element.innerHTML = '';\n",
              "          dataTable['output_type'] = 'display_data';\n",
              "          await google.colab.output.renderOutput(dataTable, element);\n",
              "          const docLink = document.createElement('div');\n",
              "          docLink.innerHTML = docLinkHtml;\n",
              "          element.appendChild(docLink);\n",
              "        }\n",
              "      </script>\n",
              "    </div>\n",
              "  </div>\n",
              "  "
            ]
          },
          "metadata": {},
          "execution_count": 2
        }
      ]
    },
    {
      "cell_type": "markdown",
      "source": [
        "## Range\n",
        "### What is the range of marks obtained in the Science subject?"
      ],
      "metadata": {
        "id": "fOHlVtjUF_dD"
      }
    },
    {
      "cell_type": "code",
      "source": [
        "df2['Science'].max() - df2['Science'].min()"
      ],
      "metadata": {
        "id": "g2WFKDIGfwo4",
        "colab": {
          "base_uri": "https://localhost:8080/"
        },
        "outputId": "1bf1af82-980b-4e88-82a6-42ed23bced94"
      },
      "execution_count": 3,
      "outputs": [
        {
          "output_type": "execute_result",
          "data": {
            "text/plain": [
              "99"
            ]
          },
          "metadata": {},
          "execution_count": 3
        }
      ]
    },
    {
      "cell_type": "markdown",
      "source": [
        "## Inter Quartile Range\n",
        "### What is the spread or variability in the scores of a particular subject?"
      ],
      "metadata": {
        "id": "R5rdJLP2djpu"
      }
    },
    {
      "cell_type": "code",
      "source": [
        "maths = df2['Maths']\n",
        "maths.quantile(0.75) - maths.quantile(0.25)"
      ],
      "metadata": {
        "colab": {
          "base_uri": "https://localhost:8080/"
        },
        "id": "8cP7LbVZFign",
        "outputId": "3c56817a-e7e9-4c7e-fe55-4fcb2a60aed4"
      },
      "execution_count": 4,
      "outputs": [
        {
          "output_type": "execute_result",
          "data": {
            "text/plain": [
              "46.0"
            ]
          },
          "metadata": {},
          "execution_count": 4
        }
      ]
    },
    {
      "cell_type": "markdown",
      "source": [
        "An Interquartile Range (IQR) value of 46.0 for the Maths scores implies the middle 50% of the students' scores in the Maths subject range from the 25th percentile to the 75th percentile"
      ],
      "metadata": {
        "id": "S81udOzidu0e"
      }
    },
    {
      "cell_type": "markdown",
      "source": [
        "## Varience\n",
        "### Among different sections (e.g., A, B, C), which section shows the highest variation in history scores?"
      ],
      "metadata": {
        "id": "qcESak51GIx3"
      }
    },
    {
      "cell_type": "code",
      "source": [
        "df2.groupby(\"Section\")['History'].var()"
      ],
      "metadata": {
        "id": "Bfqhh_wIXl5t",
        "colab": {
          "base_uri": "https://localhost:8080/"
        },
        "outputId": "c91ad709-bc11-49de-f6a6-dbfa2babf794"
      },
      "execution_count": 8,
      "outputs": [
        {
          "output_type": "execute_result",
          "data": {
            "text/plain": [
              "Section\n",
              "A    743.276209\n",
              "B    677.808828\n",
              "C    755.870521\n",
              "Name: History, dtype: float64"
            ]
          },
          "metadata": {},
          "execution_count": 8
        }
      ]
    },
    {
      "cell_type": "markdown",
      "source": [
        "Therefore, we can conclude that there is greater variability in the student’s performance within C section for the history scores."
      ],
      "metadata": {
        "id": "ENAu5HI8smHG"
      }
    },
    {
      "cell_type": "markdown",
      "source": [
        "## Standard Deviation\n",
        "### Which subject has the highest variation in scores among all students?"
      ],
      "metadata": {
        "id": "uXtouKfHsstq"
      }
    },
    {
      "cell_type": "code",
      "source": [
        "subjects = ['Science',\"English\",'History','Maths']\n",
        "std_dev = df2[subjects].std()\n",
        "std_dev"
      ],
      "metadata": {
        "colab": {
          "base_uri": "https://localhost:8080/"
        },
        "id": "SZYvaltVhAKL",
        "outputId": "36288d72-317a-4138-c5ec-22adeff97f74"
      },
      "execution_count": 11,
      "outputs": [
        {
          "output_type": "execute_result",
          "data": {
            "text/plain": [
              "Science    29.314497\n",
              "English    29.949013\n",
              "History    26.868526\n",
              "Maths      27.386416\n",
              "dtype: float64"
            ]
          },
          "metadata": {},
          "execution_count": 11
        }
      ]
    },
    {
      "cell_type": "markdown",
      "source": [
        "Therefore, we can conclude that there is greater variability in the student’s performance for the English scores."
      ],
      "metadata": {
        "id": "Vm9C_RfRtZao"
      }
    },
    {
      "cell_type": "code",
      "source": [],
      "metadata": {
        "id": "EorqUCaRtIhS"
      },
      "execution_count": null,
      "outputs": []
    }
  ]
}